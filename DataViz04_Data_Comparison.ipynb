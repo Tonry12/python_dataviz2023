{
  "nbformat": 4,
  "nbformat_minor": 0,
  "metadata": {
    "colab": {
      "name": "DataViz04 Data Comparison.ipynb",
      "provenance": [],
      "include_colab_link": true
    },
    "kernelspec": {
      "name": "python3",
      "display_name": "Python 3"
    },
    "language_info": {
      "name": "python"
    }
  },
  "cells": [
    {
      "cell_type": "markdown",
      "metadata": {
        "id": "view-in-github",
        "colab_type": "text"
      },
      "source": [
        "<a href=\"https://colab.research.google.com/github/Tonry12/python_dataviz2023/blob/main/DataViz04_Data_Comparison.ipynb\" target=\"_parent\"><img src=\"https://colab.research.google.com/assets/colab-badge.svg\" alt=\"Open In Colab\"/></a>"
      ]
    },
    {
      "cell_type": "markdown",
      "source": [
        "# เปรียบเทียบ ข้อมูล ด้วย coordinate plot"
      ],
      "metadata": {
        "id": "ZuGuMl7OEXcd"
      }
    },
    {
      "cell_type": "code",
      "execution_count": 7,
      "metadata": {
        "id": "ob324kqu6WIA"
      },
      "outputs": [],
      "source": [
        "import pandas as pd"
      ]
    },
    {
      "cell_type": "code",
      "source": [
        "example_df = pd.read_csv('https://raw.github.com/pandas-dev/pandas/master/pandas/tests/io/data/csv/iris.csv')\n",
        "example_df"
      ],
      "metadata": {
        "colab": {
          "base_uri": "https://localhost:8080/",
          "height": 423
        },
        "id": "gsFejAN56xyY",
        "outputId": "b95b109e-53bf-4aee-ae6a-aa9561b7bb62"
      },
      "execution_count": 8,
      "outputs": [
        {
          "output_type": "execute_result",
          "data": {
            "text/plain": [
              "     SepalLength  SepalWidth  PetalLength  PetalWidth            Name\n",
              "0            5.1         3.5          1.4         0.2     Iris-setosa\n",
              "1            4.9         3.0          1.4         0.2     Iris-setosa\n",
              "2            4.7         3.2          1.3         0.2     Iris-setosa\n",
              "3            4.6         3.1          1.5         0.2     Iris-setosa\n",
              "4            5.0         3.6          1.4         0.2     Iris-setosa\n",
              "..           ...         ...          ...         ...             ...\n",
              "145          6.7         3.0          5.2         2.3  Iris-virginica\n",
              "146          6.3         2.5          5.0         1.9  Iris-virginica\n",
              "147          6.5         3.0          5.2         2.0  Iris-virginica\n",
              "148          6.2         3.4          5.4         2.3  Iris-virginica\n",
              "149          5.9         3.0          5.1         1.8  Iris-virginica\n",
              "\n",
              "[150 rows x 5 columns]"
            ],
            "text/html": [
              "\n",
              "  <div id=\"df-4b281b25-7a59-4109-ad6a-1db2635879ba\" class=\"colab-df-container\">\n",
              "    <div>\n",
              "<style scoped>\n",
              "    .dataframe tbody tr th:only-of-type {\n",
              "        vertical-align: middle;\n",
              "    }\n",
              "\n",
              "    .dataframe tbody tr th {\n",
              "        vertical-align: top;\n",
              "    }\n",
              "\n",
              "    .dataframe thead th {\n",
              "        text-align: right;\n",
              "    }\n",
              "</style>\n",
              "<table border=\"1\" class=\"dataframe\">\n",
              "  <thead>\n",
              "    <tr style=\"text-align: right;\">\n",
              "      <th></th>\n",
              "      <th>SepalLength</th>\n",
              "      <th>SepalWidth</th>\n",
              "      <th>PetalLength</th>\n",
              "      <th>PetalWidth</th>\n",
              "      <th>Name</th>\n",
              "    </tr>\n",
              "  </thead>\n",
              "  <tbody>\n",
              "    <tr>\n",
              "      <th>0</th>\n",
              "      <td>5.1</td>\n",
              "      <td>3.5</td>\n",
              "      <td>1.4</td>\n",
              "      <td>0.2</td>\n",
              "      <td>Iris-setosa</td>\n",
              "    </tr>\n",
              "    <tr>\n",
              "      <th>1</th>\n",
              "      <td>4.9</td>\n",
              "      <td>3.0</td>\n",
              "      <td>1.4</td>\n",
              "      <td>0.2</td>\n",
              "      <td>Iris-setosa</td>\n",
              "    </tr>\n",
              "    <tr>\n",
              "      <th>2</th>\n",
              "      <td>4.7</td>\n",
              "      <td>3.2</td>\n",
              "      <td>1.3</td>\n",
              "      <td>0.2</td>\n",
              "      <td>Iris-setosa</td>\n",
              "    </tr>\n",
              "    <tr>\n",
              "      <th>3</th>\n",
              "      <td>4.6</td>\n",
              "      <td>3.1</td>\n",
              "      <td>1.5</td>\n",
              "      <td>0.2</td>\n",
              "      <td>Iris-setosa</td>\n",
              "    </tr>\n",
              "    <tr>\n",
              "      <th>4</th>\n",
              "      <td>5.0</td>\n",
              "      <td>3.6</td>\n",
              "      <td>1.4</td>\n",
              "      <td>0.2</td>\n",
              "      <td>Iris-setosa</td>\n",
              "    </tr>\n",
              "    <tr>\n",
              "      <th>...</th>\n",
              "      <td>...</td>\n",
              "      <td>...</td>\n",
              "      <td>...</td>\n",
              "      <td>...</td>\n",
              "      <td>...</td>\n",
              "    </tr>\n",
              "    <tr>\n",
              "      <th>145</th>\n",
              "      <td>6.7</td>\n",
              "      <td>3.0</td>\n",
              "      <td>5.2</td>\n",
              "      <td>2.3</td>\n",
              "      <td>Iris-virginica</td>\n",
              "    </tr>\n",
              "    <tr>\n",
              "      <th>146</th>\n",
              "      <td>6.3</td>\n",
              "      <td>2.5</td>\n",
              "      <td>5.0</td>\n",
              "      <td>1.9</td>\n",
              "      <td>Iris-virginica</td>\n",
              "    </tr>\n",
              "    <tr>\n",
              "      <th>147</th>\n",
              "      <td>6.5</td>\n",
              "      <td>3.0</td>\n",
              "      <td>5.2</td>\n",
              "      <td>2.0</td>\n",
              "      <td>Iris-virginica</td>\n",
              "    </tr>\n",
              "    <tr>\n",
              "      <th>148</th>\n",
              "      <td>6.2</td>\n",
              "      <td>3.4</td>\n",
              "      <td>5.4</td>\n",
              "      <td>2.3</td>\n",
              "      <td>Iris-virginica</td>\n",
              "    </tr>\n",
              "    <tr>\n",
              "      <th>149</th>\n",
              "      <td>5.9</td>\n",
              "      <td>3.0</td>\n",
              "      <td>5.1</td>\n",
              "      <td>1.8</td>\n",
              "      <td>Iris-virginica</td>\n",
              "    </tr>\n",
              "  </tbody>\n",
              "</table>\n",
              "<p>150 rows × 5 columns</p>\n",
              "</div>\n",
              "    <div class=\"colab-df-buttons\">\n",
              "\n",
              "  <div class=\"colab-df-container\">\n",
              "    <button class=\"colab-df-convert\" onclick=\"convertToInteractive('df-4b281b25-7a59-4109-ad6a-1db2635879ba')\"\n",
              "            title=\"Convert this dataframe to an interactive table.\"\n",
              "            style=\"display:none;\">\n",
              "\n",
              "  <svg xmlns=\"http://www.w3.org/2000/svg\" height=\"24px\" viewBox=\"0 -960 960 960\">\n",
              "    <path d=\"M120-120v-720h720v720H120Zm60-500h600v-160H180v160Zm220 220h160v-160H400v160Zm0 220h160v-160H400v160ZM180-400h160v-160H180v160Zm440 0h160v-160H620v160ZM180-180h160v-160H180v160Zm440 0h160v-160H620v160Z\"/>\n",
              "  </svg>\n",
              "    </button>\n",
              "\n",
              "  <style>\n",
              "    .colab-df-container {\n",
              "      display:flex;\n",
              "      gap: 12px;\n",
              "    }\n",
              "\n",
              "    .colab-df-convert {\n",
              "      background-color: #E8F0FE;\n",
              "      border: none;\n",
              "      border-radius: 50%;\n",
              "      cursor: pointer;\n",
              "      display: none;\n",
              "      fill: #1967D2;\n",
              "      height: 32px;\n",
              "      padding: 0 0 0 0;\n",
              "      width: 32px;\n",
              "    }\n",
              "\n",
              "    .colab-df-convert:hover {\n",
              "      background-color: #E2EBFA;\n",
              "      box-shadow: 0px 1px 2px rgba(60, 64, 67, 0.3), 0px 1px 3px 1px rgba(60, 64, 67, 0.15);\n",
              "      fill: #174EA6;\n",
              "    }\n",
              "\n",
              "    .colab-df-buttons div {\n",
              "      margin-bottom: 4px;\n",
              "    }\n",
              "\n",
              "    [theme=dark] .colab-df-convert {\n",
              "      background-color: #3B4455;\n",
              "      fill: #D2E3FC;\n",
              "    }\n",
              "\n",
              "    [theme=dark] .colab-df-convert:hover {\n",
              "      background-color: #434B5C;\n",
              "      box-shadow: 0px 1px 3px 1px rgba(0, 0, 0, 0.15);\n",
              "      filter: drop-shadow(0px 1px 2px rgba(0, 0, 0, 0.3));\n",
              "      fill: #FFFFFF;\n",
              "    }\n",
              "  </style>\n",
              "\n",
              "    <script>\n",
              "      const buttonEl =\n",
              "        document.querySelector('#df-4b281b25-7a59-4109-ad6a-1db2635879ba button.colab-df-convert');\n",
              "      buttonEl.style.display =\n",
              "        google.colab.kernel.accessAllowed ? 'block' : 'none';\n",
              "\n",
              "      async function convertToInteractive(key) {\n",
              "        const element = document.querySelector('#df-4b281b25-7a59-4109-ad6a-1db2635879ba');\n",
              "        const dataTable =\n",
              "          await google.colab.kernel.invokeFunction('convertToInteractive',\n",
              "                                                    [key], {});\n",
              "        if (!dataTable) return;\n",
              "\n",
              "        const docLinkHtml = 'Like what you see? Visit the ' +\n",
              "          '<a target=\"_blank\" href=https://colab.research.google.com/notebooks/data_table.ipynb>data table notebook</a>'\n",
              "          + ' to learn more about interactive tables.';\n",
              "        element.innerHTML = '';\n",
              "        dataTable['output_type'] = 'display_data';\n",
              "        await google.colab.output.renderOutput(dataTable, element);\n",
              "        const docLink = document.createElement('div');\n",
              "        docLink.innerHTML = docLinkHtml;\n",
              "        element.appendChild(docLink);\n",
              "      }\n",
              "    </script>\n",
              "  </div>\n",
              "\n",
              "\n",
              "<div id=\"df-d2c44cdf-4e08-46aa-86ca-e953ff18113d\">\n",
              "  <button class=\"colab-df-quickchart\" onclick=\"quickchart('df-d2c44cdf-4e08-46aa-86ca-e953ff18113d')\"\n",
              "            title=\"Suggest charts.\"\n",
              "            style=\"display:none;\">\n",
              "\n",
              "<svg xmlns=\"http://www.w3.org/2000/svg\" height=\"24px\"viewBox=\"0 0 24 24\"\n",
              "     width=\"24px\">\n",
              "    <g>\n",
              "        <path d=\"M19 3H5c-1.1 0-2 .9-2 2v14c0 1.1.9 2 2 2h14c1.1 0 2-.9 2-2V5c0-1.1-.9-2-2-2zM9 17H7v-7h2v7zm4 0h-2V7h2v10zm4 0h-2v-4h2v4z\"/>\n",
              "    </g>\n",
              "</svg>\n",
              "  </button>\n",
              "\n",
              "<style>\n",
              "  .colab-df-quickchart {\n",
              "      --bg-color: #E8F0FE;\n",
              "      --fill-color: #1967D2;\n",
              "      --hover-bg-color: #E2EBFA;\n",
              "      --hover-fill-color: #174EA6;\n",
              "      --disabled-fill-color: #AAA;\n",
              "      --disabled-bg-color: #DDD;\n",
              "  }\n",
              "\n",
              "  [theme=dark] .colab-df-quickchart {\n",
              "      --bg-color: #3B4455;\n",
              "      --fill-color: #D2E3FC;\n",
              "      --hover-bg-color: #434B5C;\n",
              "      --hover-fill-color: #FFFFFF;\n",
              "      --disabled-bg-color: #3B4455;\n",
              "      --disabled-fill-color: #666;\n",
              "  }\n",
              "\n",
              "  .colab-df-quickchart {\n",
              "    background-color: var(--bg-color);\n",
              "    border: none;\n",
              "    border-radius: 50%;\n",
              "    cursor: pointer;\n",
              "    display: none;\n",
              "    fill: var(--fill-color);\n",
              "    height: 32px;\n",
              "    padding: 0;\n",
              "    width: 32px;\n",
              "  }\n",
              "\n",
              "  .colab-df-quickchart:hover {\n",
              "    background-color: var(--hover-bg-color);\n",
              "    box-shadow: 0 1px 2px rgba(60, 64, 67, 0.3), 0 1px 3px 1px rgba(60, 64, 67, 0.15);\n",
              "    fill: var(--button-hover-fill-color);\n",
              "  }\n",
              "\n",
              "  .colab-df-quickchart-complete:disabled,\n",
              "  .colab-df-quickchart-complete:disabled:hover {\n",
              "    background-color: var(--disabled-bg-color);\n",
              "    fill: var(--disabled-fill-color);\n",
              "    box-shadow: none;\n",
              "  }\n",
              "\n",
              "  .colab-df-spinner {\n",
              "    border: 2px solid var(--fill-color);\n",
              "    border-color: transparent;\n",
              "    border-bottom-color: var(--fill-color);\n",
              "    animation:\n",
              "      spin 1s steps(1) infinite;\n",
              "  }\n",
              "\n",
              "  @keyframes spin {\n",
              "    0% {\n",
              "      border-color: transparent;\n",
              "      border-bottom-color: var(--fill-color);\n",
              "      border-left-color: var(--fill-color);\n",
              "    }\n",
              "    20% {\n",
              "      border-color: transparent;\n",
              "      border-left-color: var(--fill-color);\n",
              "      border-top-color: var(--fill-color);\n",
              "    }\n",
              "    30% {\n",
              "      border-color: transparent;\n",
              "      border-left-color: var(--fill-color);\n",
              "      border-top-color: var(--fill-color);\n",
              "      border-right-color: var(--fill-color);\n",
              "    }\n",
              "    40% {\n",
              "      border-color: transparent;\n",
              "      border-right-color: var(--fill-color);\n",
              "      border-top-color: var(--fill-color);\n",
              "    }\n",
              "    60% {\n",
              "      border-color: transparent;\n",
              "      border-right-color: var(--fill-color);\n",
              "    }\n",
              "    80% {\n",
              "      border-color: transparent;\n",
              "      border-right-color: var(--fill-color);\n",
              "      border-bottom-color: var(--fill-color);\n",
              "    }\n",
              "    90% {\n",
              "      border-color: transparent;\n",
              "      border-bottom-color: var(--fill-color);\n",
              "    }\n",
              "  }\n",
              "</style>\n",
              "\n",
              "  <script>\n",
              "    async function quickchart(key) {\n",
              "      const quickchartButtonEl =\n",
              "        document.querySelector('#' + key + ' button');\n",
              "      quickchartButtonEl.disabled = true;  // To prevent multiple clicks.\n",
              "      quickchartButtonEl.classList.add('colab-df-spinner');\n",
              "      try {\n",
              "        const charts = await google.colab.kernel.invokeFunction(\n",
              "            'suggestCharts', [key], {});\n",
              "      } catch (error) {\n",
              "        console.error('Error during call to suggestCharts:', error);\n",
              "      }\n",
              "      quickchartButtonEl.classList.remove('colab-df-spinner');\n",
              "      quickchartButtonEl.classList.add('colab-df-quickchart-complete');\n",
              "    }\n",
              "    (() => {\n",
              "      let quickchartButtonEl =\n",
              "        document.querySelector('#df-d2c44cdf-4e08-46aa-86ca-e953ff18113d button');\n",
              "      quickchartButtonEl.style.display =\n",
              "        google.colab.kernel.accessAllowed ? 'block' : 'none';\n",
              "    })();\n",
              "  </script>\n",
              "</div>\n",
              "    </div>\n",
              "  </div>\n"
            ]
          },
          "metadata": {},
          "execution_count": 8
        }
      ]
    },
    {
      "cell_type": "code",
      "source": [
        "sample_data = example_df.groupby('Name').mean() # หาค่า mean ในเเต่ละ Name"
      ],
      "metadata": {
        "id": "sC0mXlam6zRr"
      },
      "execution_count": 9,
      "outputs": []
    },
    {
      "cell_type": "code",
      "source": [
        "sample_data # สุ่ม data"
      ],
      "metadata": {
        "colab": {
          "base_uri": "https://localhost:8080/",
          "height": 175
        },
        "id": "K5dN0A9l63EO",
        "outputId": "b7ac7d16-4350-438c-bbcd-236745ca1afc"
      },
      "execution_count": 10,
      "outputs": [
        {
          "output_type": "execute_result",
          "data": {
            "text/plain": [
              "                 SepalLength  SepalWidth  PetalLength  PetalWidth\n",
              "Name                                                             \n",
              "Iris-setosa            5.006       3.418        1.464       0.244\n",
              "Iris-versicolor        5.936       2.770        4.260       1.326\n",
              "Iris-virginica         6.588       2.974        5.552       2.026"
            ],
            "text/html": [
              "\n",
              "  <div id=\"df-e9fe5064-cd45-48fa-90f1-436c946a8487\" class=\"colab-df-container\">\n",
              "    <div>\n",
              "<style scoped>\n",
              "    .dataframe tbody tr th:only-of-type {\n",
              "        vertical-align: middle;\n",
              "    }\n",
              "\n",
              "    .dataframe tbody tr th {\n",
              "        vertical-align: top;\n",
              "    }\n",
              "\n",
              "    .dataframe thead th {\n",
              "        text-align: right;\n",
              "    }\n",
              "</style>\n",
              "<table border=\"1\" class=\"dataframe\">\n",
              "  <thead>\n",
              "    <tr style=\"text-align: right;\">\n",
              "      <th></th>\n",
              "      <th>SepalLength</th>\n",
              "      <th>SepalWidth</th>\n",
              "      <th>PetalLength</th>\n",
              "      <th>PetalWidth</th>\n",
              "    </tr>\n",
              "    <tr>\n",
              "      <th>Name</th>\n",
              "      <th></th>\n",
              "      <th></th>\n",
              "      <th></th>\n",
              "      <th></th>\n",
              "    </tr>\n",
              "  </thead>\n",
              "  <tbody>\n",
              "    <tr>\n",
              "      <th>Iris-setosa</th>\n",
              "      <td>5.006</td>\n",
              "      <td>3.418</td>\n",
              "      <td>1.464</td>\n",
              "      <td>0.244</td>\n",
              "    </tr>\n",
              "    <tr>\n",
              "      <th>Iris-versicolor</th>\n",
              "      <td>5.936</td>\n",
              "      <td>2.770</td>\n",
              "      <td>4.260</td>\n",
              "      <td>1.326</td>\n",
              "    </tr>\n",
              "    <tr>\n",
              "      <th>Iris-virginica</th>\n",
              "      <td>6.588</td>\n",
              "      <td>2.974</td>\n",
              "      <td>5.552</td>\n",
              "      <td>2.026</td>\n",
              "    </tr>\n",
              "  </tbody>\n",
              "</table>\n",
              "</div>\n",
              "    <div class=\"colab-df-buttons\">\n",
              "\n",
              "  <div class=\"colab-df-container\">\n",
              "    <button class=\"colab-df-convert\" onclick=\"convertToInteractive('df-e9fe5064-cd45-48fa-90f1-436c946a8487')\"\n",
              "            title=\"Convert this dataframe to an interactive table.\"\n",
              "            style=\"display:none;\">\n",
              "\n",
              "  <svg xmlns=\"http://www.w3.org/2000/svg\" height=\"24px\" viewBox=\"0 -960 960 960\">\n",
              "    <path d=\"M120-120v-720h720v720H120Zm60-500h600v-160H180v160Zm220 220h160v-160H400v160Zm0 220h160v-160H400v160ZM180-400h160v-160H180v160Zm440 0h160v-160H620v160ZM180-180h160v-160H180v160Zm440 0h160v-160H620v160Z\"/>\n",
              "  </svg>\n",
              "    </button>\n",
              "\n",
              "  <style>\n",
              "    .colab-df-container {\n",
              "      display:flex;\n",
              "      gap: 12px;\n",
              "    }\n",
              "\n",
              "    .colab-df-convert {\n",
              "      background-color: #E8F0FE;\n",
              "      border: none;\n",
              "      border-radius: 50%;\n",
              "      cursor: pointer;\n",
              "      display: none;\n",
              "      fill: #1967D2;\n",
              "      height: 32px;\n",
              "      padding: 0 0 0 0;\n",
              "      width: 32px;\n",
              "    }\n",
              "\n",
              "    .colab-df-convert:hover {\n",
              "      background-color: #E2EBFA;\n",
              "      box-shadow: 0px 1px 2px rgba(60, 64, 67, 0.3), 0px 1px 3px 1px rgba(60, 64, 67, 0.15);\n",
              "      fill: #174EA6;\n",
              "    }\n",
              "\n",
              "    .colab-df-buttons div {\n",
              "      margin-bottom: 4px;\n",
              "    }\n",
              "\n",
              "    [theme=dark] .colab-df-convert {\n",
              "      background-color: #3B4455;\n",
              "      fill: #D2E3FC;\n",
              "    }\n",
              "\n",
              "    [theme=dark] .colab-df-convert:hover {\n",
              "      background-color: #434B5C;\n",
              "      box-shadow: 0px 1px 3px 1px rgba(0, 0, 0, 0.15);\n",
              "      filter: drop-shadow(0px 1px 2px rgba(0, 0, 0, 0.3));\n",
              "      fill: #FFFFFF;\n",
              "    }\n",
              "  </style>\n",
              "\n",
              "    <script>\n",
              "      const buttonEl =\n",
              "        document.querySelector('#df-e9fe5064-cd45-48fa-90f1-436c946a8487 button.colab-df-convert');\n",
              "      buttonEl.style.display =\n",
              "        google.colab.kernel.accessAllowed ? 'block' : 'none';\n",
              "\n",
              "      async function convertToInteractive(key) {\n",
              "        const element = document.querySelector('#df-e9fe5064-cd45-48fa-90f1-436c946a8487');\n",
              "        const dataTable =\n",
              "          await google.colab.kernel.invokeFunction('convertToInteractive',\n",
              "                                                    [key], {});\n",
              "        if (!dataTable) return;\n",
              "\n",
              "        const docLinkHtml = 'Like what you see? Visit the ' +\n",
              "          '<a target=\"_blank\" href=https://colab.research.google.com/notebooks/data_table.ipynb>data table notebook</a>'\n",
              "          + ' to learn more about interactive tables.';\n",
              "        element.innerHTML = '';\n",
              "        dataTable['output_type'] = 'display_data';\n",
              "        await google.colab.output.renderOutput(dataTable, element);\n",
              "        const docLink = document.createElement('div');\n",
              "        docLink.innerHTML = docLinkHtml;\n",
              "        element.appendChild(docLink);\n",
              "      }\n",
              "    </script>\n",
              "  </div>\n",
              "\n",
              "\n",
              "<div id=\"df-9759b84e-13d2-421f-b5a3-61b7c23b5b11\">\n",
              "  <button class=\"colab-df-quickchart\" onclick=\"quickchart('df-9759b84e-13d2-421f-b5a3-61b7c23b5b11')\"\n",
              "            title=\"Suggest charts.\"\n",
              "            style=\"display:none;\">\n",
              "\n",
              "<svg xmlns=\"http://www.w3.org/2000/svg\" height=\"24px\"viewBox=\"0 0 24 24\"\n",
              "     width=\"24px\">\n",
              "    <g>\n",
              "        <path d=\"M19 3H5c-1.1 0-2 .9-2 2v14c0 1.1.9 2 2 2h14c1.1 0 2-.9 2-2V5c0-1.1-.9-2-2-2zM9 17H7v-7h2v7zm4 0h-2V7h2v10zm4 0h-2v-4h2v4z\"/>\n",
              "    </g>\n",
              "</svg>\n",
              "  </button>\n",
              "\n",
              "<style>\n",
              "  .colab-df-quickchart {\n",
              "      --bg-color: #E8F0FE;\n",
              "      --fill-color: #1967D2;\n",
              "      --hover-bg-color: #E2EBFA;\n",
              "      --hover-fill-color: #174EA6;\n",
              "      --disabled-fill-color: #AAA;\n",
              "      --disabled-bg-color: #DDD;\n",
              "  }\n",
              "\n",
              "  [theme=dark] .colab-df-quickchart {\n",
              "      --bg-color: #3B4455;\n",
              "      --fill-color: #D2E3FC;\n",
              "      --hover-bg-color: #434B5C;\n",
              "      --hover-fill-color: #FFFFFF;\n",
              "      --disabled-bg-color: #3B4455;\n",
              "      --disabled-fill-color: #666;\n",
              "  }\n",
              "\n",
              "  .colab-df-quickchart {\n",
              "    background-color: var(--bg-color);\n",
              "    border: none;\n",
              "    border-radius: 50%;\n",
              "    cursor: pointer;\n",
              "    display: none;\n",
              "    fill: var(--fill-color);\n",
              "    height: 32px;\n",
              "    padding: 0;\n",
              "    width: 32px;\n",
              "  }\n",
              "\n",
              "  .colab-df-quickchart:hover {\n",
              "    background-color: var(--hover-bg-color);\n",
              "    box-shadow: 0 1px 2px rgba(60, 64, 67, 0.3), 0 1px 3px 1px rgba(60, 64, 67, 0.15);\n",
              "    fill: var(--button-hover-fill-color);\n",
              "  }\n",
              "\n",
              "  .colab-df-quickchart-complete:disabled,\n",
              "  .colab-df-quickchart-complete:disabled:hover {\n",
              "    background-color: var(--disabled-bg-color);\n",
              "    fill: var(--disabled-fill-color);\n",
              "    box-shadow: none;\n",
              "  }\n",
              "\n",
              "  .colab-df-spinner {\n",
              "    border: 2px solid var(--fill-color);\n",
              "    border-color: transparent;\n",
              "    border-bottom-color: var(--fill-color);\n",
              "    animation:\n",
              "      spin 1s steps(1) infinite;\n",
              "  }\n",
              "\n",
              "  @keyframes spin {\n",
              "    0% {\n",
              "      border-color: transparent;\n",
              "      border-bottom-color: var(--fill-color);\n",
              "      border-left-color: var(--fill-color);\n",
              "    }\n",
              "    20% {\n",
              "      border-color: transparent;\n",
              "      border-left-color: var(--fill-color);\n",
              "      border-top-color: var(--fill-color);\n",
              "    }\n",
              "    30% {\n",
              "      border-color: transparent;\n",
              "      border-left-color: var(--fill-color);\n",
              "      border-top-color: var(--fill-color);\n",
              "      border-right-color: var(--fill-color);\n",
              "    }\n",
              "    40% {\n",
              "      border-color: transparent;\n",
              "      border-right-color: var(--fill-color);\n",
              "      border-top-color: var(--fill-color);\n",
              "    }\n",
              "    60% {\n",
              "      border-color: transparent;\n",
              "      border-right-color: var(--fill-color);\n",
              "    }\n",
              "    80% {\n",
              "      border-color: transparent;\n",
              "      border-right-color: var(--fill-color);\n",
              "      border-bottom-color: var(--fill-color);\n",
              "    }\n",
              "    90% {\n",
              "      border-color: transparent;\n",
              "      border-bottom-color: var(--fill-color);\n",
              "    }\n",
              "  }\n",
              "</style>\n",
              "\n",
              "  <script>\n",
              "    async function quickchart(key) {\n",
              "      const quickchartButtonEl =\n",
              "        document.querySelector('#' + key + ' button');\n",
              "      quickchartButtonEl.disabled = true;  // To prevent multiple clicks.\n",
              "      quickchartButtonEl.classList.add('colab-df-spinner');\n",
              "      try {\n",
              "        const charts = await google.colab.kernel.invokeFunction(\n",
              "            'suggestCharts', [key], {});\n",
              "      } catch (error) {\n",
              "        console.error('Error during call to suggestCharts:', error);\n",
              "      }\n",
              "      quickchartButtonEl.classList.remove('colab-df-spinner');\n",
              "      quickchartButtonEl.classList.add('colab-df-quickchart-complete');\n",
              "    }\n",
              "    (() => {\n",
              "      let quickchartButtonEl =\n",
              "        document.querySelector('#df-9759b84e-13d2-421f-b5a3-61b7c23b5b11 button');\n",
              "      quickchartButtonEl.style.display =\n",
              "        google.colab.kernel.accessAllowed ? 'block' : 'none';\n",
              "    })();\n",
              "  </script>\n",
              "</div>\n",
              "    </div>\n",
              "  </div>\n"
            ]
          },
          "metadata": {},
          "execution_count": 10
        }
      ]
    },
    {
      "cell_type": "code",
      "source": [
        "sample_data.reset_index().iloc[0,:] # ตัดตาราง"
      ],
      "metadata": {
        "colab": {
          "base_uri": "https://localhost:8080/"
        },
        "id": "Xm-oJ7c87sKX",
        "outputId": "942fdc5c-ac6a-4a99-bcac-cc0c7e3f1044"
      },
      "execution_count": 11,
      "outputs": [
        {
          "output_type": "execute_result",
          "data": {
            "text/plain": [
              "Name           Iris-setosa\n",
              "SepalLength          5.006\n",
              "SepalWidth           3.418\n",
              "PetalLength          1.464\n",
              "PetalWidth           0.244\n",
              "Name: 0, dtype: object"
            ]
          },
          "metadata": {},
          "execution_count": 11
        }
      ]
    },
    {
      "cell_type": "code",
      "source": [
        "from matplotlib import pyplot as plt # โหลด package #คือการพล็อตกราฟ"
      ],
      "metadata": {
        "id": "mlT3ncSm64rU"
      },
      "execution_count": 12,
      "outputs": []
    },
    {
      "cell_type": "code",
      "source": [
        "plt.plot([1,2,3,4],sample_data.iloc[0,:],'ro',label = 'Setosa') # กำหนด ให้กราฟ เป็นสีแดง มีจุดเป็น วงกลม\n",
        "plt.plot([1,2,3,4],sample_data.iloc[1,:],'g*',label = 'Versicolor') # กำหนด ให้กราฟ เป็นสีเขียว มีจุดเป็น ดาว\n",
        "plt.plot([1,2,3,4],sample_data.iloc[2,:],'b^',label = 'Verginica') # กำหนด ให้กราฟ เป็นสีน้ำเงิน มีจุดเป็น สามเหลี่ยม\n",
        "plt.title('Comparing 4 features of 3 iris flower (avg)')\n",
        "plt.xlabel('Features')\n",
        "plt.ylabel('Length in  centimeter')\n",
        "plt.legend();"
      ],
      "metadata": {
        "colab": {
          "base_uri": "https://localhost:8080/",
          "height": 472
        },
        "id": "dwv7jDDB7V_v",
        "outputId": "330206ea-3329-4b28-f63a-6f1a886f0103"
      },
      "execution_count": 32,
      "outputs": [
        {
          "output_type": "display_data",
          "data": {
            "text/plain": [
              "<Figure size 640x480 with 1 Axes>"
            ],
            "image/png": "[encoded data removed]"
          },
          "metadata": {}
        }
      ]
    },
    {
      "cell_type": "code",
      "source": [
        "#เราจะสามารถเปรียบเทียบได้ และดูแนวโน้มได้ ถ้าเราใส่เส้น\n",
        "plt.plot([1,2,3,4],sample_data.iloc[0,:],'ro-') # กำหนด ให้กราฟ เป็นสีแดง มีจุดเป็น วงกลม - ลากเส้นยาว\n",
        "plt.plot([1,2,3,4],sample_data.iloc[1,:],'g*-') # กำหนด ให้กราฟ เป็นสีเขียว มีจุดเป็น ดาว  - ลากเส้นยาว\n",
        "plt.plot([1,2,3,4],sample_data.iloc[2,:],'b^-') # กำหนด ให้กราฟ เป็นสีน้ำเงิน มีจุดเป็น สามเหลี่ยม - ลากเส้นยาว\n",
        "plt.title('Comparing 4 features of 3 iris flower (avg)')\n",
        "plt.xlabel('Features')\n",
        "plt.ylabel('Length in  centimeter')\n",
        "plt.legend();"
      ],
      "metadata": {
        "colab": {
          "base_uri": "https://localhost:8080/",
          "height": 509
        },
        "id": "1kb9TAU98PGO",
        "outputId": "ea19a312-bc5f-4135-f4c5-db071576e2c6"
      },
      "execution_count": 34,
      "outputs": [
        {
          "output_type": "stream",
          "name": "stderr",
          "text": [
            "WARNING:matplotlib.legend:No artists with labels found to put in legend.  Note that artists whose label start with an underscore are ignored when legend() is called with no argument.\n"
          ]
        },
        {
          "output_type": "display_data",
          "data": {
            "text/plain": [
              "<Figure size 640x480 with 1 Axes>"
            ],
            "image/png": "[encoded data removed]"
          },
          "metadata": {}
        }
      ]
    },
    {
      "cell_type": "code",
      "source": [
        "plt.plot([1,1],[min(sample_data.iloc[:,0]),max(sample_data.iloc[:,0])],'c:') # ลากดูจุด min max ของสีเเดง o\n",
        "plt.plot([2,2],[min(sample_data.iloc[:,1]),max(sample_data.iloc[:,1])],'c:') # ลากดูจุด min max ของสีเเดง o\n",
        "plt.plot([3,3],[min(sample_data.iloc[:,2]),max(sample_data.iloc[:,2])],'c:') # ลากดูจุด min max ของสีเเดง o\n",
        "plt.plot([4,4],[min(sample_data.iloc[:,3]),max(sample_data.iloc[:,3])],'c:') # ลากดูจุด min max ของสีเเดง o\n",
        "plt.plot([1,2,3,4],sample_data.iloc[0,:],'ro') # กำหนด ให้กราฟ เป็นสีแดง มีจุดเป็น วงกลม - ลากเส้นยาว\n",
        "plt.plot([1,2,3,4],sample_data.iloc[1,:],'g*') # กำหนด ให้กราฟ เป็นสีเขียว มีจุดเป็น ดาว  - ลากเส้นยาว\n",
        "plt.plot([1,2,3,4],sample_data.iloc[2,:],'b^') # กำหนด ให้กราฟ เป็นสีน้ำเงิน มีจุดเป็น สามเหลี่ยม - ลากเส้นยาว"
      ],
      "metadata": {
        "colab": {
          "base_uri": "https://localhost:8080/",
          "height": 447
        },
        "id": "jSHa2BA28i7u",
        "outputId": "8740b4bd-010f-4553-d5df-29bff7cea1fb"
      },
      "execution_count": 15,
      "outputs": [
        {
          "output_type": "execute_result",
          "data": {
            "text/plain": [
              "[<matplotlib.lines.Line2D at 0x79c8e2e5e230>]"
            ]
          },
          "metadata": {},
          "execution_count": 15
        },
        {
          "output_type": "display_data",
          "data": {
            "text/plain": [
              "<Figure size 640x480 with 1 Axes>"
            ],
            "image/png": "[encoded data removed]"
          },
          "metadata": {}
        }
      ]
    },
    {
      "cell_type": "markdown",
      "source": [
        "## การใช้ plt.plot\n",
        "\n",
        "`plt.plot`(`พิกัดแกน X`,`พิกัดแกน Y`,`ลักษณะของ marker + เส้นชื่อม`)\n",
        "\n",
        "marker -> 'cML'"
      ],
      "metadata": {
        "id": "xEGYIk9I-9pG"
      }
    },
    {
      "cell_type": "code",
      "source": [
        "plt.plot([1],[2],'ro') # ค่าแกน X เป็น 1 Y เป็น 2  marker r = สีเเดง o คือ วงกลม"
      ],
      "metadata": {
        "colab": {
          "base_uri": "https://localhost:8080/",
          "height": 447
        },
        "id": "NHH9LU9t90_p",
        "outputId": "1302a1da-75d6-4e16-8c83-367460f5fccb"
      },
      "execution_count": 16,
      "outputs": [
        {
          "output_type": "execute_result",
          "data": {
            "text/plain": [
              "[<matplotlib.lines.Line2D at 0x79c8e2cde350>]"
            ]
          },
          "metadata": {},
          "execution_count": 16
        },
        {
          "output_type": "display_data",
          "data": {
            "text/plain": [
              "<Figure size 640x480 with 1 Axes>"
            ],
            "image/png": "[encoded data removed]"
          },
          "metadata": {}
        }
      ]
    },
    {
      "cell_type": "code",
      "source": [
        "plt.plot([1,2],[2,4],'ro') # กำหนดพร็อต สองจุด"
      ],
      "metadata": {
        "colab": {
          "base_uri": "https://localhost:8080/",
          "height": 447
        },
        "id": "RVaxzdfX_d3q",
        "outputId": "c22ef443-2fe6-49ae-9ced-aea49058e615"
      },
      "execution_count": 17,
      "outputs": [
        {
          "output_type": "execute_result",
          "data": {
            "text/plain": [
              "[<matplotlib.lines.Line2D at 0x79c8e2d68b50>]"
            ]
          },
          "metadata": {},
          "execution_count": 17
        },
        {
          "output_type": "display_data",
          "data": {
            "text/plain": [
              "<Figure size 640x480 with 1 Axes>"
            ],
            "image/png": "[encoded data removed]"
          },
          "metadata": {}
        }
      ]
    },
    {
      "cell_type": "code",
      "source": [
        "plt.plot([1,2],[2,4],'ro-.') # ได้เป็นจุดไข่ปลา -."
      ],
      "metadata": {
        "colab": {
          "base_uri": "https://localhost:8080/",
          "height": 447
        },
        "id": "qwO_nfVbAIeZ",
        "outputId": "23dadef9-2b20-4702-c773-6f45e5b2f5b2"
      },
      "execution_count": 18,
      "outputs": [
        {
          "output_type": "execute_result",
          "data": {
            "text/plain": [
              "[<matplotlib.lines.Line2D at 0x79c8e2bd3bb0>]"
            ]
          },
          "metadata": {},
          "execution_count": 18
        },
        {
          "output_type": "display_data",
          "data": {
            "text/plain": [
              "<Figure size 640x480 with 1 Axes>"
            ],
            "image/png": "[encoded data removed]"
          },
          "metadata": {}
        }
      ]
    },
    {
      "cell_type": "code",
      "source": [
        "plt.plot([1,1],[min(sample_data.iloc[:,0]),max(sample_data.iloc[:,0])],'c:') # ลากดูจุด min max ของสีเเดง o\n",
        "plt.plot([2,2],[min(sample_data.iloc[:,1]),max(sample_data.iloc[:,1])],'c:') # ลากดูจุด min max ของสีเเดง o\n",
        "plt.plot([3,3],[min(sample_data.iloc[:,2]),max(sample_data.iloc[:,2])],'c:') # ลากดูจุด min max ของสีเเดง o\n",
        "plt.plot([4,4],[min(sample_data.iloc[:,3]),max(sample_data.iloc[:,3])],'c:') # ลากดูจุด min max ของสีเเดง o\n",
        "\n",
        "plt.plot([1,2,3,4],sample_data.iloc[0,:],'ro',label='Setosa') # กำหนด ให้กราฟ เป็นสีแดง มีจุดเป็น วงกลม - ลากเส้นยาว # กำหนดชื่อ label ชื่อว่า Setosa\n",
        "plt.plot([1,2,3,4],sample_data.iloc[1,:],'g*',label='Versicolor') # กำหนด ให้กราฟ เป็นสีเขียว มีจุดเป็น ดาว  - ลากเส้นยาว # กำหนดชื่อ label ชื่อว่า Versicolor\n",
        "plt.plot([1,2,3,4],sample_data.iloc[2,:],'b^',label='Virginica') # กำหนด ให้กราฟ เป็นสีน้ำเงิน มีจุดเป็น สามเหลี่ยม - ลากเส้นยาว # กำหนดชื่อ label ชื่อว่า Virginica"
      ],
      "metadata": {
        "colab": {
          "base_uri": "https://localhost:8080/",
          "height": 447
        },
        "id": "PzVLWalmAOld",
        "outputId": "2512ff7c-1bcb-484a-e5f0-2ada23b6535e"
      },
      "execution_count": 19,
      "outputs": [
        {
          "output_type": "execute_result",
          "data": {
            "text/plain": [
              "[<matplotlib.lines.Line2D at 0x79c8e2c85810>]"
            ]
          },
          "metadata": {},
          "execution_count": 19
        },
        {
          "output_type": "display_data",
          "data": {
            "text/plain": [
              "<Figure size 640x480 with 1 Axes>"
            ],
            "image/png": "[encoded data removed]"
          },
          "metadata": {}
        }
      ]
    },
    {
      "cell_type": "code",
      "source": [
        "example_df.iloc[:,:-1].columns.tolist() # หัวคอลัมน์  โดยตัดตรง Name ออก"
      ],
      "metadata": {
        "colab": {
          "base_uri": "https://localhost:8080/"
        },
        "id": "rehUtyS4BzNG",
        "outputId": "7a384ae9-18bd-4d60-8b46-dd9cb70d4f81"
      },
      "execution_count": 20,
      "outputs": [
        {
          "output_type": "execute_result",
          "data": {
            "text/plain": [
              "['SepalLength', 'SepalWidth', 'PetalLength', 'PetalWidth']"
            ]
          },
          "metadata": {},
          "execution_count": 20
        }
      ]
    },
    {
      "cell_type": "code",
      "source": [
        "plt.plot([1,1],[min(sample_data.iloc[:,0]),max(sample_data.iloc[:,0])],'c:') # ลากดูจุด min max ของสีเเดง o\n",
        "plt.plot([2,2],[min(sample_data.iloc[:,1]),max(sample_data.iloc[:,1])],'c:') # ลากดูจุด min max ของสีเเดง o\n",
        "plt.plot([3,3],[min(sample_data.iloc[:,2]),max(sample_data.iloc[:,2])],'c:') # ลากดูจุด min max ของสีเเดง o\n",
        "plt.plot([4,4],[min(sample_data.iloc[:,3]),max(sample_data.iloc[:,3])],'c:') # ลากดูจุด min max ของสีเเดง o\n",
        "\n",
        "plt.plot([1,2,3,4],sample_data.iloc[0,:],'ro',label='Setosa') # กำหนด ให้กราฟ เป็นสีแดง มีจุดเป็น วงกลม - ลากเส้นยาว # กำหนดชื่อ label ชื่อว่า Setosa\n",
        "plt.plot([1,2,3,4],sample_data.iloc[1,:],'g*',label='Versicolor') # กำหนด ให้กราฟ เป็นสีเขียว มีจุดเป็น ดาว  - ลากเส้นยาว # กำหนดชื่อ label ชื่อว่า Versicolor\n",
        "plt.plot([1,2,3,4],sample_data.iloc[2,:],'b^',label='Virginica') # กำหนด ให้กราฟ เป็นสีน้ำเงิน มีจุดเป็น สามเหลี่ยม - ลากเส้นยาว # กำหนดชื่อ label ชื่อว่า Virginica\n",
        "plt.legend()\n",
        "plt.xticks([1,2,3,4],example_df.iloc[:,:-1].columns.tolist(),rotation='vertical') # เติมชื่อกราฟแกน x\n",
        "plt.title('Features comparison between 3 different Iris flowers'); # ชื่อกราฟ"
      ],
      "metadata": {
        "colab": {
          "base_uri": "https://localhost:8080/",
          "height": 525
        },
        "id": "WCEp5RhoBJwx",
        "outputId": "3bd0824b-3808-409b-f1f0-c61a4e17e7ad"
      },
      "execution_count": 21,
      "outputs": [
        {
          "output_type": "display_data",
          "data": {
            "text/plain": [
              "<Figure size 640x480 with 1 Axes>"
            ],
            "image/png": "[encoded data removed]"
          },
          "metadata": {}
        }
      ]
    },
    {
      "cell_type": "code",
      "source": [
        "plt.plot([1,1],[min(sample_data.iloc[:,0]),max(sample_data.iloc[:,0])],'c:') # ลากดูจุด min max ของสีเเดง o\n",
        "plt.plot([2,2],[min(sample_data.iloc[:,1]),max(sample_data.iloc[:,1])],'c:') # ลากดูจุด min max ของสีเเดง o\n",
        "plt.plot([3,3],[min(sample_data.iloc[:,2]),max(sample_data.iloc[:,2])],'c:') # ลากดูจุด min max ของสีเเดง o\n",
        "plt.plot([4,4],[min(sample_data.iloc[:,3]),max(sample_data.iloc[:,3])],'c:') # ลากดูจุด min max ของสีเเดง o\n",
        "\n",
        "plt.plot([1,2,3,4],sample_data.iloc[0,:],'ro',label='Setosa') # กำหนด ให้กราฟ เป็นสีแดง มีจุดเป็น วงกลม - ลากเส้นยาว # กำหนดชื่อ label ชื่อว่า Setosa\n",
        "plt.plot([1,2,3,4],sample_data.iloc[1,:],'g*',label='Versicolor') # กำหนด ให้กราฟ เป็นสีเขียว มีจุดเป็น ดาว  - ลากเส้นยาว # กำหนดชื่อ label ชื่อว่า Versicolor\n",
        "plt.plot([1,2,3,4],sample_data.iloc[2,:],'b^',label='Virginica') # กำหนด ให้กราฟ เป็นสีน้ำเงิน มีจุดเป็น สามเหลี่ยม - ลากเส้นยาว # กำหนดชื่อ label ชื่อว่า Virginica\n",
        "plt.legend()\n",
        "plt.xticks([1,2,3,4],example_df.iloc[:,:-1].columns.tolist(),rotation='vertical') # เติมชื่อแกน x\n",
        "plt.title('Features comparison between 3 different Iris flowers'); # ชื่อกราฟ\n",
        "plt.ylabel('size (cm)'); # เติมชื่อ แกน y"
      ],
      "metadata": {
        "colab": {
          "base_uri": "https://localhost:8080/",
          "height": 525
        },
        "id": "LaECy3xVCha-",
        "outputId": "1f9f63d9-4c8d-4ebc-bf82-1216d33ac3ec"
      },
      "execution_count": 22,
      "outputs": [
        {
          "output_type": "display_data",
          "data": {
            "text/plain": [
              "<Figure size 640x480 with 1 Axes>"
            ],
            "image/png": "[encoded data removed]"
          },
          "metadata": {}
        }
      ]
    },
    {
      "cell_type": "markdown",
      "source": [
        "# HW วาดรูป ก้อนเมฆ และ ฝน ด้วย plt.plot"
      ],
      "metadata": {
        "id": "_nyeAikUDj9G"
      }
    },
    {
      "cell_type": "code",
      "source": [
        "# ฝน\n",
        "plt.plot([2,2],[1,2],'b-.')\n",
        "plt.plot([2,2],[3,4],'b-.')\n",
        "plt.plot([3,3],[2,3],'b-.')\n",
        "plt.plot([4,4],[1,2],'b-.')\n",
        "plt.plot([4,4],[3,4],'b-.')\n",
        "# ก้อนเมฆ\n",
        "plt.plot([1,2,3,4,5],[7,5,5,5,7],'b-.')\n",
        "plt.plot([1,2,3,4,5],[7,9,9,9,7],'b-.')"
      ],
      "metadata": {
        "id": "7RLORNTzDTGq",
        "outputId": "f735f9a7-8cec-4d02-8b41-d5cd974c6db7",
        "colab": {
          "base_uri": "https://localhost:8080/",
          "height": 447
        }
      },
      "execution_count": 23,
      "outputs": [
        {
          "output_type": "execute_result",
          "data": {
            "text/plain": [
              "[<matplotlib.lines.Line2D at 0x79c8e2a32b00>]"
            ]
          },
          "metadata": {},
          "execution_count": 23
        },
        {
          "output_type": "display_data",
          "data": {
            "text/plain": [
              "<Figure size 640x480 with 1 Axes>"
            ],
            "image/png": "[encoded data removed]"
          },
          "metadata": {}
        }
      ]
    },
    {
      "cell_type": "markdown",
      "source": [
        "# Bar chart"
      ],
      "metadata": {
        "id": "4ZNco9xSXID6"
      }
    },
    {
      "cell_type": "code",
      "source": [
        "sample_data"
      ],
      "metadata": {
        "id": "-9-Le_rqXMPh",
        "outputId": "9860cd52-39cc-46bc-915a-642c6f35ac58",
        "colab": {
          "base_uri": "https://localhost:8080/",
          "height": 175
        }
      },
      "execution_count": 24,
      "outputs": [
        {
          "output_type": "execute_result",
          "data": {
            "text/plain": [
              "                 SepalLength  SepalWidth  PetalLength  PetalWidth\n",
              "Name                                                             \n",
              "Iris-setosa            5.006       3.418        1.464       0.244\n",
              "Iris-versicolor        5.936       2.770        4.260       1.326\n",
              "Iris-virginica         6.588       2.974        5.552       2.026"
            ],
            "text/html": [
              "\n",
              "  <div id=\"df-298c94fa-0595-4028-8154-adda8dec66be\" class=\"colab-df-container\">\n",
              "    <div>\n",
              "<style scoped>\n",
              "    .dataframe tbody tr th:only-of-type {\n",
              "        vertical-align: middle;\n",
              "    }\n",
              "\n",
              "    .dataframe tbody tr th {\n",
              "        vertical-align: top;\n",
              "    }\n",
              "\n",
              "    .dataframe thead th {\n",
              "        text-align: right;\n",
              "    }\n",
              "</style>\n",
              "<table border=\"1\" class=\"dataframe\">\n",
              "  <thead>\n",
              "    <tr style=\"text-align: right;\">\n",
              "      <th></th>\n",
              "      <th>SepalLength</th>\n",
              "      <th>SepalWidth</th>\n",
              "      <th>PetalLength</th>\n",
              "      <th>PetalWidth</th>\n",
              "    </tr>\n",
              "    <tr>\n",
              "      <th>Name</th>\n",
              "      <th></th>\n",
              "      <th></th>\n",
              "      <th></th>\n",
              "      <th></th>\n",
              "    </tr>\n",
              "  </thead>\n",
              "  <tbody>\n",
              "    <tr>\n",
              "      <th>Iris-setosa</th>\n",
              "      <td>5.006</td>\n",
              "      <td>3.418</td>\n",
              "      <td>1.464</td>\n",
              "      <td>0.244</td>\n",
              "    </tr>\n",
              "    <tr>\n",
              "      <th>Iris-versicolor</th>\n",
              "      <td>5.936</td>\n",
              "      <td>2.770</td>\n",
              "      <td>4.260</td>\n",
              "      <td>1.326</td>\n",
              "    </tr>\n",
              "    <tr>\n",
              "      <th>Iris-virginica</th>\n",
              "      <td>6.588</td>\n",
              "      <td>2.974</td>\n",
              "      <td>5.552</td>\n",
              "      <td>2.026</td>\n",
              "    </tr>\n",
              "  </tbody>\n",
              "</table>\n",
              "</div>\n",
              "    <div class=\"colab-df-buttons\">\n",
              "\n",
              "  <div class=\"colab-df-container\">\n",
              "    <button class=\"colab-df-convert\" onclick=\"convertToInteractive('df-298c94fa-0595-4028-8154-adda8dec66be')\"\n",
              "            title=\"Convert this dataframe to an interactive table.\"\n",
              "            style=\"display:none;\">\n",
              "\n",
              "  <svg xmlns=\"http://www.w3.org/2000/svg\" height=\"24px\" viewBox=\"0 -960 960 960\">\n",
              "    <path d=\"M120-120v-720h720v720H120Zm60-500h600v-160H180v160Zm220 220h160v-160H400v160Zm0 220h160v-160H400v160ZM180-400h160v-160H180v160Zm440 0h160v-160H620v160ZM180-180h160v-160H180v160Zm440 0h160v-160H620v160Z\"/>\n",
              "  </svg>\n",
              "    </button>\n",
              "\n",
              "  <style>\n",
              "    .colab-df-container {\n",
              "      display:flex;\n",
              "      gap: 12px;\n",
              "    }\n",
              "\n",
              "    .colab-df-convert {\n",
              "      background-color: #E8F0FE;\n",
              "      border: none;\n",
              "      border-radius: 50%;\n",
              "      cursor: pointer;\n",
              "      display: none;\n",
              "      fill: #1967D2;\n",
              "      height: 32px;\n",
              "      padding: 0 0 0 0;\n",
              "      width: 32px;\n",
              "    }\n",
              "\n",
              "    .colab-df-convert:hover {\n",
              "      background-color: #E2EBFA;\n",
              "      box-shadow: 0px 1px 2px rgba(60, 64, 67, 0.3), 0px 1px 3px 1px rgba(60, 64, 67, 0.15);\n",
              "      fill: #174EA6;\n",
              "    }\n",
              "\n",
              "    .colab-df-buttons div {\n",
              "      margin-bottom: 4px;\n",
              "    }\n",
              "\n",
              "    [theme=dark] .colab-df-convert {\n",
              "      background-color: #3B4455;\n",
              "      fill: #D2E3FC;\n",
              "    }\n",
              "\n",
              "    [theme=dark] .colab-df-convert:hover {\n",
              "      background-color: #434B5C;\n",
              "      box-shadow: 0px 1px 3px 1px rgba(0, 0, 0, 0.15);\n",
              "      filter: drop-shadow(0px 1px 2px rgba(0, 0, 0, 0.3));\n",
              "      fill: #FFFFFF;\n",
              "    }\n",
              "  </style>\n",
              "\n",
              "    <script>\n",
              "      const buttonEl =\n",
              "        document.querySelector('#df-298c94fa-0595-4028-8154-adda8dec66be button.colab-df-convert');\n",
              "      buttonEl.style.display =\n",
              "        google.colab.kernel.accessAllowed ? 'block' : 'none';\n",
              "\n",
              "      async function convertToInteractive(key) {\n",
              "        const element = document.querySelector('#df-298c94fa-0595-4028-8154-adda8dec66be');\n",
              "        const dataTable =\n",
              "          await google.colab.kernel.invokeFunction('convertToInteractive',\n",
              "                                                    [key], {});\n",
              "        if (!dataTable) return;\n",
              "\n",
              "        const docLinkHtml = 'Like what you see? Visit the ' +\n",
              "          '<a target=\"_blank\" href=https://colab.research.google.com/notebooks/data_table.ipynb>data table notebook</a>'\n",
              "          + ' to learn more about interactive tables.';\n",
              "        element.innerHTML = '';\n",
              "        dataTable['output_type'] = 'display_data';\n",
              "        await google.colab.output.renderOutput(dataTable, element);\n",
              "        const docLink = document.createElement('div');\n",
              "        docLink.innerHTML = docLinkHtml;\n",
              "        element.appendChild(docLink);\n",
              "      }\n",
              "    </script>\n",
              "  </div>\n",
              "\n",
              "\n",
              "<div id=\"df-14be7396-382a-40d5-8d8a-3c25bf43565f\">\n",
              "  <button class=\"colab-df-quickchart\" onclick=\"quickchart('df-14be7396-382a-40d5-8d8a-3c25bf43565f')\"\n",
              "            title=\"Suggest charts.\"\n",
              "            style=\"display:none;\">\n",
              "\n",
              "<svg xmlns=\"http://www.w3.org/2000/svg\" height=\"24px\"viewBox=\"0 0 24 24\"\n",
              "     width=\"24px\">\n",
              "    <g>\n",
              "        <path d=\"M19 3H5c-1.1 0-2 .9-2 2v14c0 1.1.9 2 2 2h14c1.1 0 2-.9 2-2V5c0-1.1-.9-2-2-2zM9 17H7v-7h2v7zm4 0h-2V7h2v10zm4 0h-2v-4h2v4z\"/>\n",
              "    </g>\n",
              "</svg>\n",
              "  </button>\n",
              "\n",
              "<style>\n",
              "  .colab-df-quickchart {\n",
              "      --bg-color: #E8F0FE;\n",
              "      --fill-color: #1967D2;\n",
              "      --hover-bg-color: #E2EBFA;\n",
              "      --hover-fill-color: #174EA6;\n",
              "      --disabled-fill-color: #AAA;\n",
              "      --disabled-bg-color: #DDD;\n",
              "  }\n",
              "\n",
              "  [theme=dark] .colab-df-quickchart {\n",
              "      --bg-color: #3B4455;\n",
              "      --fill-color: #D2E3FC;\n",
              "      --hover-bg-color: #434B5C;\n",
              "      --hover-fill-color: #FFFFFF;\n",
              "      --disabled-bg-color: #3B4455;\n",
              "      --disabled-fill-color: #666;\n",
              "  }\n",
              "\n",
              "  .colab-df-quickchart {\n",
              "    background-color: var(--bg-color);\n",
              "    border: none;\n",
              "    border-radius: 50%;\n",
              "    cursor: pointer;\n",
              "    display: none;\n",
              "    fill: var(--fill-color);\n",
              "    height: 32px;\n",
              "    padding: 0;\n",
              "    width: 32px;\n",
              "  }\n",
              "\n",
              "  .colab-df-quickchart:hover {\n",
              "    background-color: var(--hover-bg-color);\n",
              "    box-shadow: 0 1px 2px rgba(60, 64, 67, 0.3), 0 1px 3px 1px rgba(60, 64, 67, 0.15);\n",
              "    fill: var(--button-hover-fill-color);\n",
              "  }\n",
              "\n",
              "  .colab-df-quickchart-complete:disabled,\n",
              "  .colab-df-quickchart-complete:disabled:hover {\n",
              "    background-color: var(--disabled-bg-color);\n",
              "    fill: var(--disabled-fill-color);\n",
              "    box-shadow: none;\n",
              "  }\n",
              "\n",
              "  .colab-df-spinner {\n",
              "    border: 2px solid var(--fill-color);\n",
              "    border-color: transparent;\n",
              "    border-bottom-color: var(--fill-color);\n",
              "    animation:\n",
              "      spin 1s steps(1) infinite;\n",
              "  }\n",
              "\n",
              "  @keyframes spin {\n",
              "    0% {\n",
              "      border-color: transparent;\n",
              "      border-bottom-color: var(--fill-color);\n",
              "      border-left-color: var(--fill-color);\n",
              "    }\n",
              "    20% {\n",
              "      border-color: transparent;\n",
              "      border-left-color: var(--fill-color);\n",
              "      border-top-color: var(--fill-color);\n",
              "    }\n",
              "    30% {\n",
              "      border-color: transparent;\n",
              "      border-left-color: var(--fill-color);\n",
              "      border-top-color: var(--fill-color);\n",
              "      border-right-color: var(--fill-color);\n",
              "    }\n",
              "    40% {\n",
              "      border-color: transparent;\n",
              "      border-right-color: var(--fill-color);\n",
              "      border-top-color: var(--fill-color);\n",
              "    }\n",
              "    60% {\n",
              "      border-color: transparent;\n",
              "      border-right-color: var(--fill-color);\n",
              "    }\n",
              "    80% {\n",
              "      border-color: transparent;\n",
              "      border-right-color: var(--fill-color);\n",
              "      border-bottom-color: var(--fill-color);\n",
              "    }\n",
              "    90% {\n",
              "      border-color: transparent;\n",
              "      border-bottom-color: var(--fill-color);\n",
              "    }\n",
              "  }\n",
              "</style>\n",
              "\n",
              "  <script>\n",
              "    async function quickchart(key) {\n",
              "      const quickchartButtonEl =\n",
              "        document.querySelector('#' + key + ' button');\n",
              "      quickchartButtonEl.disabled = true;  // To prevent multiple clicks.\n",
              "      quickchartButtonEl.classList.add('colab-df-spinner');\n",
              "      try {\n",
              "        const charts = await google.colab.kernel.invokeFunction(\n",
              "            'suggestCharts', [key], {});\n",
              "      } catch (error) {\n",
              "        console.error('Error during call to suggestCharts:', error);\n",
              "      }\n",
              "      quickchartButtonEl.classList.remove('colab-df-spinner');\n",
              "      quickchartButtonEl.classList.add('colab-df-quickchart-complete');\n",
              "    }\n",
              "    (() => {\n",
              "      let quickchartButtonEl =\n",
              "        document.querySelector('#df-14be7396-382a-40d5-8d8a-3c25bf43565f button');\n",
              "      quickchartButtonEl.style.display =\n",
              "        google.colab.kernel.accessAllowed ? 'block' : 'none';\n",
              "    })();\n",
              "  </script>\n",
              "</div>\n",
              "    </div>\n",
              "  </div>\n"
            ]
          },
          "metadata": {},
          "execution_count": 24
        }
      ]
    },
    {
      "cell_type": "code",
      "source": [
        "sample_data['PetalLength'] # ดู เฉพาะคอลัมน์ PetalLength"
      ],
      "metadata": {
        "id": "hToY7fV6X9MJ",
        "outputId": "3e6f0f2b-5527-4c0b-c446-7e080eab3e8b",
        "colab": {
          "base_uri": "https://localhost:8080/"
        }
      },
      "execution_count": 25,
      "outputs": [
        {
          "output_type": "execute_result",
          "data": {
            "text/plain": [
              "Name\n",
              "Iris-setosa        1.464\n",
              "Iris-versicolor    4.260\n",
              "Iris-virginica     5.552\n",
              "Name: PetalLength, dtype: float64"
            ]
          },
          "metadata": {},
          "execution_count": 25
        }
      ]
    },
    {
      "cell_type": "code",
      "source": [
        "sample_data['PetalLength'][0] # ในชนิดเเรก"
      ],
      "metadata": {
        "id": "cTZBkhJTYAQU",
        "outputId": "6fb78b6e-1225-4f8f-93e5-f750478dd691",
        "colab": {
          "base_uri": "https://localhost:8080/"
        }
      },
      "execution_count": 26,
      "outputs": [
        {
          "output_type": "execute_result",
          "data": {
            "text/plain": [
              "1.464"
            ]
          },
          "metadata": {},
          "execution_count": 26
        }
      ]
    },
    {
      "cell_type": "markdown",
      "source": [
        "### เปรียบเทียบปริมาณ 1 ปริมาณของ object หลาย class"
      ],
      "metadata": {
        "id": "M1pRQUd6ae9T"
      }
    },
    {
      "cell_type": "code",
      "source": [
        "plt.bar([1,2,3],sample_data['PetalLength']) # สามารถเปรียบเทียบ 3 ชนิดได้"
      ],
      "metadata": {
        "id": "4SoVY-SZYGru",
        "outputId": "ac4cb1cc-baf4-4dd3-adba-39f2ba7d4751",
        "colab": {
          "base_uri": "https://localhost:8080/",
          "height": 447
        }
      },
      "execution_count": 27,
      "outputs": [
        {
          "output_type": "execute_result",
          "data": {
            "text/plain": [
              "<BarContainer object of 3 artists>"
            ]
          },
          "metadata": {},
          "execution_count": 27
        },
        {
          "output_type": "display_data",
          "data": {
            "text/plain": [
              "<Figure size 640x480 with 1 Axes>"
            ],
            "image/png": "[encoded data removed]"
          },
          "metadata": {}
        }
      ]
    },
    {
      "cell_type": "code",
      "source": [
        "sample_data.reset_index()['Name'] # เอาไว้ลบช่องว่าง"
      ],
      "metadata": {
        "id": "nwhM4JRGYtEs",
        "outputId": "aba29bac-4f6c-401a-ec5b-cf64d6d4480a",
        "colab": {
          "base_uri": "https://localhost:8080/"
        }
      },
      "execution_count": 28,
      "outputs": [
        {
          "output_type": "execute_result",
          "data": {
            "text/plain": [
              "0        Iris-setosa\n",
              "1    Iris-versicolor\n",
              "2     Iris-virginica\n",
              "Name: Name, dtype: object"
            ]
          },
          "metadata": {},
          "execution_count": 28
        }
      ]
    },
    {
      "cell_type": "code",
      "source": [
        "plt.bar([1,2,3],sample_data['PetalLength']) # สามารถเปรียบเทียบ 3 ชนิดได้\n",
        "plt.xticks([1,2,3,4],sample_data.reset_index()['Name'],rotation='vertical') # เติมชื่อแกน x\n",
        "plt.title('Comparison between average petal length of 3 iris flowers'); # ชื่อกราฟ\n",
        "plt.grid(True,axis='y') # เส้นกริด ไว้ลากกราฟ True เปิด grid เลือกได้ว่าจะเปิดในเเนวเเกนไหน ใช้ axis\n",
        "plt.ylabel('size (cm)'); # เติมชื่อ แกน y"
      ],
      "metadata": {
        "id": "DFpamAxqYc_i",
        "outputId": "922aa78d-ef54-4783-8253-7544627a040a",
        "colab": {
          "base_uri": "https://localhost:8080/",
          "height": 804
        }
      },
      "execution_count": 29,
      "outputs": [
        {
          "output_type": "error",
          "ename": "ValueError",
          "evalue": "ignored",
          "traceback": [
            "\u001b[0;31m---------------------------------------------------------------------------\u001b[0m",
            "\u001b[0;31mValueError\u001b[0m                                Traceback (most recent call last)",
            "\u001b[0;32m<ipython-input-29-72b2adb5419a>\u001b[0m in \u001b[0;36m<cell line: 2>\u001b[0;34m()\u001b[0m\n\u001b[1;32m      1\u001b[0m \u001b[0mplt\u001b[0m\u001b[0;34m.\u001b[0m\u001b[0mbar\u001b[0m\u001b[0;34m(\u001b[0m\u001b[0;34m[\u001b[0m\u001b[0;36m1\u001b[0m\u001b[0;34m,\u001b[0m\u001b[0;36m2\u001b[0m\u001b[0;34m,\u001b[0m\u001b[0;36m3\u001b[0m\u001b[0;34m]\u001b[0m\u001b[0;34m,\u001b[0m\u001b[0msample_data\u001b[0m\u001b[0;34m[\u001b[0m\u001b[0;34m'PetalLength'\u001b[0m\u001b[0;34m]\u001b[0m\u001b[0;34m)\u001b[0m \u001b[0;31m# สามารถเปรียบเทียบ 3 ชนิดได้\u001b[0m\u001b[0;34m\u001b[0m\u001b[0;34m\u001b[0m\u001b[0m\n\u001b[0;32m----> 2\u001b[0;31m \u001b[0mplt\u001b[0m\u001b[0;34m.\u001b[0m\u001b[0mxticks\u001b[0m\u001b[0;34m(\u001b[0m\u001b[0;34m[\u001b[0m\u001b[0;36m1\u001b[0m\u001b[0;34m,\u001b[0m\u001b[0;36m2\u001b[0m\u001b[0;34m,\u001b[0m\u001b[0;36m3\u001b[0m\u001b[0;34m,\u001b[0m\u001b[0;36m4\u001b[0m\u001b[0;34m]\u001b[0m\u001b[0;34m,\u001b[0m\u001b[0msample_data\u001b[0m\u001b[0;34m.\u001b[0m\u001b[0mreset_index\u001b[0m\u001b[0;34m(\u001b[0m\u001b[0;34m)\u001b[0m\u001b[0;34m[\u001b[0m\u001b[0;34m'Name'\u001b[0m\u001b[0;34m]\u001b[0m\u001b[0;34m,\u001b[0m\u001b[0mrotation\u001b[0m\u001b[0;34m=\u001b[0m\u001b[0;34m'vertical'\u001b[0m\u001b[0;34m)\u001b[0m \u001b[0;31m# เติมชื่อแกน x\u001b[0m\u001b[0;34m\u001b[0m\u001b[0;34m\u001b[0m\u001b[0m\n\u001b[0m\u001b[1;32m      3\u001b[0m \u001b[0mplt\u001b[0m\u001b[0;34m.\u001b[0m\u001b[0mtitle\u001b[0m\u001b[0;34m(\u001b[0m\u001b[0;34m'Comparison between average petal length of 3 iris flowers'\u001b[0m\u001b[0;34m)\u001b[0m\u001b[0;34m;\u001b[0m \u001b[0;31m# ชื่อกราฟ\u001b[0m\u001b[0;34m\u001b[0m\u001b[0;34m\u001b[0m\u001b[0m\n\u001b[1;32m      4\u001b[0m \u001b[0mplt\u001b[0m\u001b[0;34m.\u001b[0m\u001b[0mgrid\u001b[0m\u001b[0;34m(\u001b[0m\u001b[0;32mTrue\u001b[0m\u001b[0;34m,\u001b[0m\u001b[0maxis\u001b[0m\u001b[0;34m=\u001b[0m\u001b[0;34m'y'\u001b[0m\u001b[0;34m)\u001b[0m \u001b[0;31m# เส้นกริด ไว้ลากกราฟ True เปิด grid เลือกได้ว่าจะเปิดในเเนวเเกนไหน ใช้ axis\u001b[0m\u001b[0;34m\u001b[0m\u001b[0;34m\u001b[0m\u001b[0m\n\u001b[1;32m      5\u001b[0m \u001b[0mplt\u001b[0m\u001b[0;34m.\u001b[0m\u001b[0mylabel\u001b[0m\u001b[0;34m(\u001b[0m\u001b[0;34m'size (cm)'\u001b[0m\u001b[0;34m)\u001b[0m\u001b[0;34m;\u001b[0m \u001b[0;31m# เติมชื่อ แกน y\u001b[0m\u001b[0;34m\u001b[0m\u001b[0;34m\u001b[0m\u001b[0m\n",
            "\u001b[0;32m/usr/local/lib/python3.10/dist-packages/matplotlib/pyplot.py\u001b[0m in \u001b[0;36mxticks\u001b[0;34m(ticks, labels, minor, **kwargs)\u001b[0m\n\u001b[1;32m   1891\u001b[0m             \u001b[0ml\u001b[0m\u001b[0;34m.\u001b[0m\u001b[0m_internal_update\u001b[0m\u001b[0;34m(\u001b[0m\u001b[0mkwargs\u001b[0m\u001b[0;34m)\u001b[0m\u001b[0;34m\u001b[0m\u001b[0;34m\u001b[0m\u001b[0m\n\u001b[1;32m   1892\u001b[0m     \u001b[0;32melse\u001b[0m\u001b[0;34m:\u001b[0m\u001b[0;34m\u001b[0m\u001b[0;34m\u001b[0m\u001b[0m\n\u001b[0;32m-> 1893\u001b[0;31m         \u001b[0mlabels\u001b[0m \u001b[0;34m=\u001b[0m \u001b[0max\u001b[0m\u001b[0;34m.\u001b[0m\u001b[0mset_xticklabels\u001b[0m\u001b[0;34m(\u001b[0m\u001b[0mlabels\u001b[0m\u001b[0;34m,\u001b[0m \u001b[0mminor\u001b[0m\u001b[0;34m=\u001b[0m\u001b[0mminor\u001b[0m\u001b[0;34m,\u001b[0m \u001b[0;34m**\u001b[0m\u001b[0mkwargs\u001b[0m\u001b[0;34m)\u001b[0m\u001b[0;34m\u001b[0m\u001b[0;34m\u001b[0m\u001b[0m\n\u001b[0m\u001b[1;32m   1894\u001b[0m \u001b[0;34m\u001b[0m\u001b[0m\n\u001b[1;32m   1895\u001b[0m     \u001b[0;32mreturn\u001b[0m \u001b[0mlocs\u001b[0m\u001b[0;34m,\u001b[0m \u001b[0mlabels\u001b[0m\u001b[0;34m\u001b[0m\u001b[0;34m\u001b[0m\u001b[0m\n",
            "\u001b[0;32m/usr/local/lib/python3.10/dist-packages/matplotlib/axes/_base.py\u001b[0m in \u001b[0;36mwrapper\u001b[0;34m(self, *args, **kwargs)\u001b[0m\n\u001b[1;32m     72\u001b[0m \u001b[0;34m\u001b[0m\u001b[0m\n\u001b[1;32m     73\u001b[0m         \u001b[0;32mdef\u001b[0m \u001b[0mwrapper\u001b[0m\u001b[0;34m(\u001b[0m\u001b[0mself\u001b[0m\u001b[0;34m,\u001b[0m \u001b[0;34m*\u001b[0m\u001b[0margs\u001b[0m\u001b[0;34m,\u001b[0m \u001b[0;34m**\u001b[0m\u001b[0mkwargs\u001b[0m\u001b[0;34m)\u001b[0m\u001b[0;34m:\u001b[0m\u001b[0;34m\u001b[0m\u001b[0;34m\u001b[0m\u001b[0m\n\u001b[0;32m---> 74\u001b[0;31m             \u001b[0;32mreturn\u001b[0m \u001b[0mget_method\u001b[0m\u001b[0;34m(\u001b[0m\u001b[0mself\u001b[0m\u001b[0;34m)\u001b[0m\u001b[0;34m(\u001b[0m\u001b[0;34m*\u001b[0m\u001b[0margs\u001b[0m\u001b[0;34m,\u001b[0m \u001b[0;34m**\u001b[0m\u001b[0mkwargs\u001b[0m\u001b[0;34m)\u001b[0m\u001b[0;34m\u001b[0m\u001b[0;34m\u001b[0m\u001b[0m\n\u001b[0m\u001b[1;32m     75\u001b[0m \u001b[0;34m\u001b[0m\u001b[0m\n\u001b[1;32m     76\u001b[0m         \u001b[0mwrapper\u001b[0m\u001b[0;34m.\u001b[0m\u001b[0m__module__\u001b[0m \u001b[0;34m=\u001b[0m \u001b[0mowner\u001b[0m\u001b[0;34m.\u001b[0m\u001b[0m__module__\u001b[0m\u001b[0;34m\u001b[0m\u001b[0;34m\u001b[0m\u001b[0m\n",
            "\u001b[0;32m/usr/local/lib/python3.10/dist-packages/matplotlib/_api/deprecation.py\u001b[0m in \u001b[0;36mwrapper\u001b[0;34m(*args, **kwargs)\u001b[0m\n\u001b[1;32m    295\u001b[0m                 f\"for the old name will be dropped %(removal)s.\")\n\u001b[1;32m    296\u001b[0m             \u001b[0mkwargs\u001b[0m\u001b[0;34m[\u001b[0m\u001b[0mnew\u001b[0m\u001b[0;34m]\u001b[0m \u001b[0;34m=\u001b[0m \u001b[0mkwargs\u001b[0m\u001b[0;34m.\u001b[0m\u001b[0mpop\u001b[0m\u001b[0;34m(\u001b[0m\u001b[0mold\u001b[0m\u001b[0;34m)\u001b[0m\u001b[0;34m\u001b[0m\u001b[0;34m\u001b[0m\u001b[0m\n\u001b[0;32m--> 297\u001b[0;31m         \u001b[0;32mreturn\u001b[0m \u001b[0mfunc\u001b[0m\u001b[0;34m(\u001b[0m\u001b[0;34m*\u001b[0m\u001b[0margs\u001b[0m\u001b[0;34m,\u001b[0m \u001b[0;34m**\u001b[0m\u001b[0mkwargs\u001b[0m\u001b[0;34m)\u001b[0m\u001b[0;34m\u001b[0m\u001b[0;34m\u001b[0m\u001b[0m\n\u001b[0m\u001b[1;32m    298\u001b[0m \u001b[0;34m\u001b[0m\u001b[0m\n\u001b[1;32m    299\u001b[0m     \u001b[0;31m# wrapper() must keep the same documented signature as func(): if we\u001b[0m\u001b[0;34m\u001b[0m\u001b[0;34m\u001b[0m\u001b[0m\n",
            "\u001b[0;32m/usr/local/lib/python3.10/dist-packages/matplotlib/axis.py\u001b[0m in \u001b[0;36mset_ticklabels\u001b[0;34m(self, labels, minor, fontdict, **kwargs)\u001b[0m\n\u001b[1;32m   1967\u001b[0m             \u001b[0;31m# remove all tick labels, so only error for > 0 labels\u001b[0m\u001b[0;34m\u001b[0m\u001b[0;34m\u001b[0m\u001b[0m\n\u001b[1;32m   1968\u001b[0m             \u001b[0;32mif\u001b[0m \u001b[0mlen\u001b[0m\u001b[0;34m(\u001b[0m\u001b[0mlocator\u001b[0m\u001b[0;34m.\u001b[0m\u001b[0mlocs\u001b[0m\u001b[0;34m)\u001b[0m \u001b[0;34m!=\u001b[0m \u001b[0mlen\u001b[0m\u001b[0;34m(\u001b[0m\u001b[0mlabels\u001b[0m\u001b[0;34m)\u001b[0m \u001b[0;32mand\u001b[0m \u001b[0mlen\u001b[0m\u001b[0;34m(\u001b[0m\u001b[0mlabels\u001b[0m\u001b[0;34m)\u001b[0m \u001b[0;34m!=\u001b[0m \u001b[0;36m0\u001b[0m\u001b[0;34m:\u001b[0m\u001b[0;34m\u001b[0m\u001b[0;34m\u001b[0m\u001b[0m\n\u001b[0;32m-> 1969\u001b[0;31m                 raise ValueError(\n\u001b[0m\u001b[1;32m   1970\u001b[0m                     \u001b[0;34m\"The number of FixedLocator locations\"\u001b[0m\u001b[0;34m\u001b[0m\u001b[0;34m\u001b[0m\u001b[0m\n\u001b[1;32m   1971\u001b[0m                     \u001b[0;34mf\" ({len(locator.locs)}), usually from a call to\"\u001b[0m\u001b[0;34m\u001b[0m\u001b[0;34m\u001b[0m\u001b[0m\n",
            "\u001b[0;31mValueError\u001b[0m: The number of FixedLocator locations (4), usually from a call to set_ticks, does not match the number of labels (3)."
          ]
        },
        {
          "output_type": "display_data",
          "data": {
            "text/plain": [
              "<Figure size 640x480 with 1 Axes>"
            ],
            "image/png": "[encoded data removed]"
          },
          "metadata": {}
        }
      ]
    },
    {
      "cell_type": "code",
      "source": [
        "plt.bar([1,2,3],sample_data['PetalLength'],color=['r','g','b']) # สามารถเปรียบเทียบ 3 ชนิดได้\n",
        "plt.xticks([1,2,3,4],sample_data.reset_index()['Name'],rotation='vertical') # เติมชื่อแกน x\n",
        "plt.title('Comparison between average petal length of 3 iris flowers'); # ชื่อกราฟ\n",
        "plt.grid(True) # เส้นกริด ไว้ลากกราฟ True เปิด grid\n",
        "plt.ylabel('size (cm)'); # เติมชื่อ แกน y"
      ],
      "metadata": {
        "id": "LsK0Oq5yZFp5"
      },
      "execution_count": null,
      "outputs": []
    },
    {
      "cell_type": "markdown",
      "source": [
        "### เปรียบเทียบปริมาณ มากกว่า 1 ปริมาณของ object หลาย class"
      ],
      "metadata": {
        "id": "djIreOhHavtT"
      }
    },
    {
      "cell_type": "markdown",
      "source": [
        "![image.png](data:image/png;base64,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)"
      ],
      "metadata": {
        "id": "ERHDBTr2NZcN"
      }
    },
    {
      "cell_type": "code",
      "source": [
        "import numpy as np # เรียกใช้ package"
      ],
      "metadata": {
        "id": "yn_1fIFIZ2J9"
      },
      "execution_count": null,
      "outputs": []
    },
    {
      "cell_type": "code",
      "source": [
        "width = 0.2 # ความกว้างของกราฟ\n",
        "\n",
        "plt.bar([1,2],[sample_data['PetalLength'][1],sample_data['PetalWidth'][1]],width,color='g',label='versicolor') # ดอกที่ 2 versicolor\n",
        "plt.bar([1-width,2-width],[sample_data['PetalLength'][0],sample_data['PetalWidth'][0]],width,color='r',label='setosa') # ดอกที่ 1 setosa ขยับซ้าย\n",
        "plt.bar([1+width,2+width],[sample_data['PetalLength'][2],sample_data['PetalWidth'][2]],width,color='b',label='virginica') # ดอกที่ 3 virginica ขยับขวา\n",
        "\n",
        "plt.xticks([1,2],['Petal Length','Petal Width']) # เติมชื่อแกน x\n",
        "plt.legend();"
      ],
      "metadata": {
        "id": "KHuaNFJfd7i5"
      },
      "execution_count": null,
      "outputs": []
    },
    {
      "cell_type": "markdown",
      "source": [
        "### การนำปริมาณหลายปริมาณมาซ้อนกัน"
      ],
      "metadata": {
        "id": "F1TH0gvViWpN"
      }
    },
    {
      "cell_type": "markdown",
      "source": [
        "![image.png](data:image/png;base64,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)"
      ],
      "metadata": {
        "id": "EZhEP5yNNcW1"
      }
    },
    {
      "cell_type": "code",
      "source": [
        "plt.bar([1,2,3],sample_data['PetalLength'],color='b',label='Petal Length') # กราฟชุดเเรก\n",
        "plt.bar([1,2,3],sample_data['PetalWidth'],bottom=sample_data['PetalLength'],color='r',label='Petal Width') # กราฟชุดสอง\n",
        "plt.xticks([1,2,3],sample_data.reset_index()['Name']) # เติมชื่อแกน x\n",
        "plt.grid(True,axis='y') # เส้นกริด ไว้ลากกราฟ True เปิด grid เลือกได้ว่าจะเปิดในเเนวเเกนไหน ใช้ axis\n",
        "plt.legend();"
      ],
      "metadata": {
        "id": "jOZz6Lkjd-Ha"
      },
      "execution_count": null,
      "outputs": []
    },
    {
      "cell_type": "markdown",
      "source": [
        "### Bar chart แบบ ตะแคงข้าง"
      ],
      "metadata": {
        "id": "J9Hqv-GTmuU-"
      }
    },
    {
      "cell_type": "code",
      "source": [
        "plt.barh([1,2,3],sample_data['PetalLength'],color='b',label='Petal Length') # กราฟชุดเเรก\n",
        "plt.barh([1,2,3],sample_data['PetalWidth'],left=sample_data['PetalLength'],color='r',label='Petal Width') # กราฟชุดสอง\n",
        "plt.yticks([1,2,3],sample_data.reset_index()['Name']) # เติมชื่อแกน x\n",
        "plt.grid(True,axis='x') # เส้นกริด ไว้ลากกราฟ True เปิด grid เลือกได้ว่าจะเปิดในเเนวเเกนไหน ใช้ axis\n",
        "plt.legend();"
      ],
      "metadata": {
        "id": "sq98zgRLm1Md"
      },
      "execution_count": null,
      "outputs": []
    },
    {
      "cell_type": "markdown",
      "source": [
        "# HW\n",
        "1. plot bar chart เปรียบเทียบ sepal length, sepal width, petal length, petal width ของ ดอก iris ทั้ง 3 ชนิด\n",
        "\n",
        "2. plot bar chart เพื่อเปรียบเทียบขนาดโดยรวมของ ดอก iris ทั้ง 3 ชนิด โดยดูจาก sepal length, sepal width, petal length,และ petal width"
      ],
      "metadata": {
        "id": "OszTxCxDlp7d"
      }
    },
    {
      "cell_type": "markdown",
      "source": [
        "ข้อที่ 1"
      ],
      "metadata": {
        "id": "tlhUoHOqIWNT"
      }
    },
    {
      "cell_type": "code",
      "source": [
        "width = 0.2 # ความกว้างของกราฟ\n",
        "\n",
        "plt.bar([1,2,3,4],[sample_data['SepalLength'][1],sample_data['SepalWidth'][1],sample_data['PetalLength'][1],sample_data['PetalWidth'][1]],width,color='g',label='versicolor') # ดอกที่ 2 versicolor\n",
        "plt.bar([1-width,2-width,3-width,4-width],[sample_data['SepalLength'][0],sample_data['SepalWidth'][0],sample_data['PetalLength'][0],sample_data['PetalWidth'][0]],width,color='r',label='setosa') # ดอกที่ 1 setosa ขยับซ้าย\n",
        "plt.bar([1+width,2+width,3+width,4+width],[sample_data['SepalLength'][2],sample_data['SepalWidth'][2],sample_data['PetalLength'][2],sample_data['PetalWidth'][2]],width,color='b',label='virginica') # ดอกที่ 3 virginica ขยับขวา\n",
        "\n",
        "plt.xticks([1,2,3,4],['SepalLength','SepalWidth','Petal Length','Petal Width']) # เติมชื่อแกน x\n",
        "plt.legend();"
      ],
      "metadata": {
        "id": "vyngrhC8kjNY"
      },
      "execution_count": null,
      "outputs": []
    },
    {
      "cell_type": "markdown",
      "source": [
        "ข้อที่ 2"
      ],
      "metadata": {
        "id": "DFCD1-yPL84z"
      }
    },
    {
      "cell_type": "code",
      "source": [
        "plt.bar([1,2,3],sample_data['SepalLength'],color='b',label='Sepal Length') # กราฟชุดเเรก\n",
        "plt.bar([1,2,3],sample_data['SepalWidth'],bottom=sample_data['SepalLength'],color='r',label='Sepal Width') # กราฟชุดสอง\n",
        "plt.bar([1,2,3],sample_data['PetalLength'],bottom= sample_data['SepalLength'] + sample_data['SepalWidth'],color='g',label='Petal Length') # กราฟชุดสาม\n",
        "plt.bar([1,2,3],sample_data['PetalWidth'],bottom= sample_data['SepalLength'] + sample_data['SepalWidth'] + sample_data['PetalLength'],color='orange',label='Petal Width') # กราฟชุดสี่\n",
        "plt.xticks([1,2,3],sample_data.reset_index()['Name']) # เติมชื่อแกน x\n",
        "plt.grid(True,axis='y') # เส้นกริด ไว้ลากกราฟ True เปิด grid เลือกได้ว่าจะเปิดในเเนวเเกนไหน ใช้ axis\n",
        "plt.legend();"
      ],
      "metadata": {
        "id": "VRSdp6xAL_Np"
      },
      "execution_count": null,
      "outputs": []
    },
    {
      "cell_type": "code",
      "source": [
        "plt.bar([1,2,3],sample_data['SepalLength'],color='b',label='Sepal Length') # กราฟชุดเเรก\n",
        "plt.bar([1,2,3],sample_data['SepalWidth'],bottom=sample_data['SepalLength']+1,color='r',label='Sepal Width') ## bottom มากเกินไป จะเห็นชั้นแยก\n",
        "plt.bar([1,2,3],sample_data['PetalLength'],bottom= sample_data['SepalLength'] + sample_data['SepalWidth'],color=[0.8,0.2,0.0,0.5],label='Petal Length') # มันจะทับบาร์อันเก่า(ซ้อนกัน) ## bottom น้อยเกินไป\n",
        "plt.bar([1,2,3],sample_data['PetalWidth'],bottom= sample_data['SepalLength'] + sample_data['SepalWidth'] + sample_data['PetalLength'],color='orange',label='Petal Width') # กราฟชุดสี่\n",
        "plt.xticks([1,2,3],sample_data.reset_index()['Name']) # เติมชื่อแกน x\n",
        "plt.grid(True,axis='y') # เส้นกริด ไว้ลากกราฟ True เปิด grid เลือกได้ว่าจะเปิดในเเนวเเกนไหน ใช้ axis\n",
        "plt.legend();"
      ],
      "metadata": {
        "id": "ykLG3t9O6bJb"
      },
      "execution_count": null,
      "outputs": []
    },
    {
      "cell_type": "markdown",
      "source": [
        "# Histogram\n",
        "\n",
        "แสดงความถี่ของข้อมูล"
      ],
      "metadata": {
        "id": "_ggMiGoJoR5N"
      }
    },
    {
      "cell_type": "code",
      "source": [
        "np.random.seed(2022) # สุ่มด้วยเเหล่งเดียวกัน\n",
        "\n",
        "X = np.random.randint(1,101,100) # (เลขน้อยที่สุด , เลขมากที่สุด , เอากี่ตัว) เอาเลขตั้งเเต่ 1-100"
      ],
      "metadata": {
        "id": "fi3zSJRqoTh5"
      },
      "execution_count": null,
      "outputs": []
    },
    {
      "cell_type": "code",
      "source": [
        "X # เลิกตั้งเเต่ 1-100"
      ],
      "metadata": {
        "id": "un_vBjtXpjUC"
      },
      "execution_count": null,
      "outputs": []
    },
    {
      "cell_type": "code",
      "source": [
        "histout = plt.hist(X) # พร็อต histogram"
      ],
      "metadata": {
        "id": "HuOVXCEUpjs2"
      },
      "execution_count": null,
      "outputs": []
    },
    {
      "cell_type": "code",
      "source": [
        "histout # ดูตำเเหน่ง"
      ],
      "metadata": {
        "id": "ycNe-c0_p-BE"
      },
      "execution_count": null,
      "outputs": []
    },
    {
      "cell_type": "code",
      "source": [
        "histout[0] # กล่อง 1  เลขไหนที่ อยู่ระหว่าง 8-11 จะโยนมากล่องที่ 1"
      ],
      "metadata": {
        "id": "vsJrmPLgrR0s"
      },
      "execution_count": null,
      "outputs": []
    },
    {
      "cell_type": "code",
      "source": [
        "histout[1] # กล่อง 2  เลขไหนที่ อยู่ระหว่าง 3-12.6 จะโยนมากล่องที่ 2"
      ],
      "metadata": {
        "id": "SXEHQR6Nra3a"
      },
      "execution_count": null,
      "outputs": []
    },
    {
      "cell_type": "markdown",
      "source": [
        "# Tree map\n",
        "\n",
        "https://www.analyticsvidhya.com/blog/2021/06/build-treemaps-in-python-using-squarify/"
      ],
      "metadata": {
        "id": "1qizyUcR7pcw"
      }
    },
    {
      "cell_type": "code",
      "source": [
        "!pip install squarify # install package"
      ],
      "metadata": {
        "id": "YkZl5InX7rHZ"
      },
      "execution_count": null,
      "outputs": []
    },
    {
      "cell_type": "code",
      "source": [
        "import matplotlib.pyplot as plt # เรียกใช้ package ไว้พร็อตกราฟ\n",
        "import squarify # เอาไว้พร็อต tree map"
      ],
      "metadata": {
        "id": "dl9WPETU8O-9"
      },
      "execution_count": null,
      "outputs": []
    },
    {
      "cell_type": "code",
      "source": [
        "data = [500, 250, 60, 120] # สร้าง data"
      ],
      "metadata": {
        "id": "8YyOZt7p8ToT"
      },
      "execution_count": null,
      "outputs": []
    },
    {
      "cell_type": "code",
      "source": [
        "squarify.plot(data) # พร็อต tree map\n",
        "plt.axis('off')"
      ],
      "metadata": {
        "id": "bfIcmSpT8kFR"
      },
      "execution_count": null,
      "outputs": []
    },
    {
      "cell_type": "markdown",
      "source": [
        "### ตั้งสี ที่ต้องการ"
      ],
      "metadata": {
        "id": "40Bx2Xjh9OzH"
      }
    },
    {
      "cell_type": "code",
      "source": [
        "data = [500, 250, 60, 120] # สร้าง data\n",
        "color = ['red', 'green', 'blue', 'orange'] # กำหนดสี\n",
        "squarify.plot(data,color=color) # พร็อตกราฟแบบกำหนดสีตามที่เราต้องการ\n",
        "plt.axis('off')"
      ],
      "metadata": {
        "id": "Hynt7tId8qFz"
      },
      "execution_count": null,
      "outputs": []
    },
    {
      "cell_type": "markdown",
      "source": [
        "เพิ่มชื่อให้กับปริมาณแต่ละตัว"
      ],
      "metadata": {
        "id": "UmbV6wZV9rdo"
      }
    },
    {
      "cell_type": "code",
      "source": [
        "labels = ['SCI', 'ENG', 'EDU', 'AGI'] # กำหนดชื่อ\n",
        "data = [500, 250, 60, 120] # สร้าง data\n",
        "color = ['red', 'green', 'blue', 'orange'] # กำหนดสี\n",
        "squarify.plot(data,color=color,label=labels) # พร็อตกราฟแบบกำหนดสีตามที่เราต้องการ\n",
        "plt.axis('off')"
      ],
      "metadata": {
        "id": "A8SXFZyt9YoP"
      },
      "execution_count": null,
      "outputs": []
    },
    {
      "cell_type": "code",
      "source": [
        "labels = ['SCI', 'ENG', 'EDU', 'AGI'] # กำหนดชื่อ\n",
        "data = [500, 250, 60, 120] # สร้าง data\n",
        "color = ['red', 'green', 'blue', 'orange'] # กำหนดสี\n",
        "squarify.plot(data,color=color,label=labels,pad=True) # พร็อตกราฟแบบกำหนดสีตามที่เราต้องการ ## pad =True ทำให้มีช่องว่างเพื่อความสวยงาม\n",
        "plt.axis('off')"
      ],
      "metadata": {
        "id": "opP7526_9ues"
      },
      "execution_count": null,
      "outputs": []
    },
    {
      "cell_type": "markdown",
      "source": [
        "# Group HW2\n",
        "plot tree map ของปริมาณผู้ติดเชื้อ covid-19 ของแต่ละจังหวัดในประเทศไทย ในวันที่ 1-4 มีนาคม 2565"
      ],
      "metadata": {
        "id": "H5Nu5JqQ-vZq"
      }
    },
    {
      "cell_type": "markdown",
      "source": [
        "โหลดข้อมูล"
      ],
      "metadata": {
        "id": "fpm-rxEGCHBg"
      }
    },
    {
      "cell_type": "code",
      "source": [
        "import pandas as pd #pd ใช้ย่อของคำว่า pandas #ใช้ในข้อมูลที่เป็นตาราง เอกเชล หรือ .csv\n",
        "import os  # จัดการเกี่ยวกับไฟล์ต่าง ๆ ในโฟล์เดอร์"
      ],
      "metadata": {
        "id": "gserx7Nv-fYR"
      },
      "execution_count": null,
      "outputs": []
    },
    {
      "cell_type": "code",
      "source": [
        "from google.colab import drive  #เป็นการเชื่อม colab กับไดร์ฟของเรา\n",
        "drive.mount('/content/drive')  #เป็นการเชื่อมไปยังที่อยู่ไดร์ฟที่สร้าง Foder ชื่อว่า dataviz_2021_data\n",
        "path = '/content/drive/My Drive/DATA' #ทำการเชื่อมกับข้อมูลในไดร์ฟที่ชื่อว่า midterm data 2022"
      ],
      "metadata": {
        "id": "RZyZ2D60CS4g"
      },
      "execution_count": null,
      "outputs": []
    },
    {
      "cell_type": "code",
      "source": [
        "data_file_path = os.path.join(path,'confirmed-cases-since-280265.xlsx') #ที่อยู่ของไฟล์ชื่อว่า confirmed-cases.xlsx\n",
        "data = pd.read_excel(data_file_path,parse_dates=['announce_date'])"
      ],
      "metadata": {
        "id": "QOggK0kaCgyR"
      },
      "execution_count": null,
      "outputs": []
    },
    {
      "cell_type": "markdown",
      "source": [
        "เตรียมข้อมูล\n",
        "\n",
        "\n",
        "ข้อมูล confirmed-cases ในวันที่ 1-4 มีนาคม 2565"
      ],
      "metadata": {
        "id": "2NJtYWPTDAwP"
      }
    },
    {
      "cell_type": "code",
      "source": [
        "data"
      ],
      "metadata": {
        "id": "vuJQvDG-DKVx"
      },
      "execution_count": null,
      "outputs": []
    },
    {
      "cell_type": "code",
      "source": [
        "data_drop = data.dropna() #.dropna() ลบข้อมูลที่เป็น NaN ออก\n",
        "data_drop #แสดงค่าออกมา"
      ],
      "metadata": {
        "id": "Q7zG6RzsC-qg"
      },
      "execution_count": null,
      "outputs": []
    },
    {
      "cell_type": "code",
      "source": [
        "data_drop.isnull().any() # เช็คว่ามี Missing อยู่หรือไม่ ถ้าหากไม่มี จะขึ้น False"
      ],
      "metadata": {
        "id": "a_FTT9WwEm9I"
      },
      "execution_count": null,
      "outputs": []
    },
    {
      "cell_type": "code",
      "source": [
        "data_choose = data_drop[(data_drop['announce_date']>='2022-03-01') & (data_drop['announce_date']<='2022-03-04')]\n",
        "data_choose"
      ],
      "metadata": {
        "id": "h1KXyAd5NXiq"
      },
      "execution_count": null,
      "outputs": []
    },
    {
      "cell_type": "code",
      "source": [
        "data_choose['province_of_onset'].replace({'ขานุวรลักษณ์บุรี':'กำแพงเพชร','กรุงเทพมหานคร.':'กรุงเทพมหานคร','กำแพงเพชร\\xa0':'กำแพงเพชร','ชลบุรี\\xa0':'ชลบุรี','ตราด\\xa0':'ตราด','นครปฐม\\xa0':'นครปฐม','นครนายก':'นครยายก','นครราชศรีมา':'นครราชสีมา','นครราชสีมา\\xa0':'นครราชสีมา','นครสวรรค์\\xa0':'นครสวรรค์','บุรีรัมย์\\xa0':'บุรีรัมย์','ปทุมธานี\\xa0':'ปทุมธานี','พิษณุโลก\\xa0':'พิษณุโลก','ลพบุรี\\xa0':'ลพบุรี','สมุทรปราการ\\xa0':'สมุทรปราการ','ปัตตนรี':'ปัตตานี','สมุทสาคร':'สมุทรสาคร','สุราษฏร์ธานี':'สุราษฎร์ธานี','สมุทiสาคร':'สมุทรสาคร','สุโขทัย\\xa0':'สุโขทัย','อุดรธานี\\xa0':'อุดรธานี','อุบลราชธานี\\xa0':'อุบลราชธานี','เพชรบูรณ์\\xa0':'เพชรบูรณ์','อยุทธยา':'อยุธยา','เชิงเทรา':'ฉะเชิงเทรา','พระนครศรีอยุธยา':'อยุธยา'},inplace=True)"
      ],
      "metadata": {
        "id": "PyTYmtpPV_er"
      },
      "execution_count": null,
      "outputs": []
    },
    {
      "cell_type": "code",
      "source": [
        "set(data_choose['province_of_onset'])"
      ],
      "metadata": {
        "id": "GsCUo0_LeE7g"
      },
      "execution_count": null,
      "outputs": []
    },
    {
      "cell_type": "markdown",
      "source": [
        "ปริมาณผู้ติดเชื้อ covid-19 ของแต่ละจังหวัดในประเทศไทย"
      ],
      "metadata": {
        "id": "y4nzQ4DlSEoy"
      }
    },
    {
      "cell_type": "code",
      "source": [
        "data_TH = data_choose.groupby('province_of_onset')['No.'].count()\n",
        "data_TH2 = pd.DataFrame(data_TH)\n",
        "data_TH2_noindex = data_TH2.reset_index() #reset_index ใช้เพื่อสำหรับลบช่องว่าง\n",
        "data_TH2_noindex"
      ],
      "metadata": {
        "id": "2yd4vHpVR1xj"
      },
      "execution_count": null,
      "outputs": []
    },
    {
      "cell_type": "code",
      "source": [
        "!wget -q https://github.com/Phonbopit/sarabun-webfont/raw/master/fonts/thsarabunnew-webfont.ttf # !wget คือ ดาวน์โหลด font ! คือ unit command"
      ],
      "metadata": {
        "id": "WNYZQa91ioA3"
      },
      "execution_count": null,
      "outputs": []
    },
    {
      "cell_type": "code",
      "source": [
        "!ls # list files ทั้งหมด"
      ],
      "metadata": {
        "id": "aYAPFLhyizcm"
      },
      "execution_count": null,
      "outputs": []
    },
    {
      "cell_type": "code",
      "source": [
        "import matplotlib as mpl # ให้ matplotlib เรียกว่า mpl\n",
        "mpl.font_manager.fontManager.addfont('thsarabunnew-webfont.ttf') # ทำการใส่ font\n",
        "mpl.rc('font', family='TH Sarabun New') # ทำการใส่ font"
      ],
      "metadata": {
        "id": "XtAuJZVKi1G-"
      },
      "execution_count": null,
      "outputs": []
    },
    {
      "cell_type": "code",
      "source": [
        "!pip install squarify\n",
        "import matplotlib.pyplot as plt # เรียกใช้ package ไว้พร็อตกราฟ\n",
        "import squarify # เอาไว้พร็อต tree map\n",
        "import matplotlib"
      ],
      "metadata": {
        "id": "5RQI3MTni1Ml"
      },
      "execution_count": null,
      "outputs": []
    },
    {
      "cell_type": "code",
      "source": [
        "cmap = matplotlib.cm.Blues\n",
        "norm = matplotlib.colors.Normalize(vmin=min(data_TH2_noindex['No.']), vmax=max(data_TH2_noindex['No.']))\n",
        "colors = [cmap(norm(value)) for value in data_TH2_noindex['No.']]\n",
        "\n",
        "fig = plt.gcf()\n",
        "fig.set_size_inches(28, 15)\n",
        "\n",
        "squarify.plot(data_TH2_noindex['No.'],label=data_TH2_noindex['province_of_onset'],color=colors,pad=True) # พร็อต tree map\n",
        "plt.title('ปริมาณผู้ติดเชื้อ covid-19 ของแต่ละจังหวัดในประเทศไทย ในวันที่ 1-4 มีนาคม 2565',fontsize=20)\n",
        "plt.axis('off')"
      ],
      "metadata": {
        "id": "oZ0VGHOMjPI4"
      },
      "execution_count": null,
      "outputs": []
    },
    {
      "cell_type": "markdown",
      "source": [
        "# Spyder (rader) Chart"
      ],
      "metadata": {
        "id": "C_OQIfiKAiQf"
      }
    },
    {
      "cell_type": "code",
      "source": [
        "import numpy as np\n",
        "import pandas as pd # import pandas มาเพราะข้อมูลจะเกี่ยวกับตาราง\n",
        "\n",
        "import matplotlib.pyplot as plt\n",
        "from math import pi # import math มาเนื่องจากเกี่ยวกับวงกลมนำมาใช้เพื่อดึงค่าพาย"
      ],
      "metadata": {
        "id": "r7n7_HpHBS7j"
      },
      "execution_count": null,
      "outputs": []
    },
    {
      "cell_type": "code",
      "source": [
        "data = {'client_id' : ['c1' , 'c2' , 'c3' , 'c4'],\n",
        "         'Math' : [10,5,4,7],\n",
        "         'Eng' : [7,1,3,5],\n",
        "         'Friendly' : [4,8,10,4],\n",
        "        'Look' : [4,8,7,6],\n",
        "       'Money' : [2,10,5,9]}\n",
        "df = pd.DataFrame.from_dict(data)\n",
        "df # กำหนดตารางข้อมูล"
      ],
      "metadata": {
        "id": "goKnqb5eB_oi"
      },
      "execution_count": null,
      "outputs": []
    },
    {
      "cell_type": "code",
      "source": [
        "categories = list(df.columns[1:])\n",
        "categories # ดูประเภททั้งหมด"
      ],
      "metadata": {
        "id": "xu2ez7RRC55d"
      },
      "execution_count": null,
      "outputs": []
    },
    {
      "cell_type": "markdown",
      "source": [
        "## plot ค่า mean"
      ],
      "metadata": {
        "id": "djcauvK9Jd2m"
      }
    },
    {
      "cell_type": "code",
      "source": [
        "values = df.mean().values.flatten().tolist()\n",
        "values += values[:1] # repeat the first value to close the circular graph\n",
        "angles = [n / float(len(categories)) * 2 * pi for n in range(len(categories))]\n",
        "angles += angles[:1]"
      ],
      "metadata": {
        "id": "1JTiTWMqDBy7"
      },
      "execution_count": null,
      "outputs": []
    },
    {
      "cell_type": "code",
      "source": [
        "fig, ax = plt.subplots(nrows=1, ncols=1, figsize=(8, 8),\n",
        "                       subplot_kw=dict(polar=True))\n",
        "\n",
        "plt.xticks(angles[:-1], categories, color='grey', size=12)\n",
        "plt.yticks(np.arange(1, 10), ['1', '2', '3', '4', '5','6','7','8','9','10'],\n",
        "           color='grey', size=12)\n",
        "\n",
        "plt.ylim(0, 10)\n",
        "ax.set_rlabel_position(30)\n",
        "\n",
        "ax.plot(angles, values, linewidth=1, linestyle='solid' , color = '#ea3033') #เส้นกราฟ\n",
        "ax.fill(angles, values, 'lightpink', alpha=0.5) #พื้นที่"
      ],
      "metadata": {
        "id": "ckQSiQi1JkaT"
      },
      "execution_count": null,
      "outputs": []
    },
    {
      "cell_type": "markdown",
      "source": [
        "## Plot แต่ละคน"
      ],
      "metadata": {
        "id": "xYDW6C3CJoce"
      }
    },
    {
      "cell_type": "code",
      "source": [
        "# คำนวณมุมของแต่ละคุณสมบัติ\n",
        "angles = [n / float(len(categories)) * 2 * pi for n in range(len(categories))] ## เปลี่ยน len(categories) เป็นจำนวนคุณสมบัติที่จะ plot\n",
        "angles += angles[:1]\n",
        "\n",
        "# สร้าง background graph\n",
        "fig, ax = plt.subplots(nrows=1, ncols=1, figsize=(8, 8),\n",
        "                       subplot_kw=dict(polar=True))\n",
        "\n",
        "plt.xticks(angles[:-1], categories, color='grey', size=12)\n",
        "plt.yticks(np.arange(1, 10), ['1', '2', '3', '4', '5','6','7','8','9','10'],    ## กำหนด scale ของค่าที่ต้องการแสดง\n",
        "           color='grey', size=12)\n",
        "\n",
        "plt.ylim(0, 10)\n",
        "ax.set_rlabel_position(30)\n",
        "\n",
        "# plot คนที่ 1\n",
        "val_c1 = df.loc[0].drop('client_id').values.flatten().tolist()    ## เลือกค่าที่ต้องการแสดง\n",
        "val_c1 += val_c1[:1]\n",
        "ax.plot(angles, val_c1, linewidth=1,\n",
        "        linestyle='solid', label='Person1')\n",
        "ax.fill(angles, val_c1, 'skyblue', alpha=0.4)     ## เลือกสี\n",
        "\n",
        "# plot คนที่ 2\n",
        "val_c2 = df.loc[1].drop('client_id').values.flatten().tolist()   ## เลือกค่าที่ต้องการแสดง\n",
        "val_c2 += val_c2[:1]\n",
        "ax.plot(angles, val_c2, linewidth=1,\n",
        "        linestyle='solid', label='Person2')\n",
        "ax.fill(angles, val_c2, 'lightpink', alpha=0.4)   ## เลือกสี\n",
        "\n",
        "ax.legend();"
      ],
      "metadata": {
        "id": "MTAXvg37JmAU"
      },
      "execution_count": null,
      "outputs": []
    },
    {
      "cell_type": "code",
      "source": [
        "# คำนวณมุมของแต่ละคุณสมบัติ\n",
        "angles = [n / float(len(categories)) * 2 * pi for n in range(len(categories))] ## เปลี่ยน len(categories) เป็นจำนวนคุณสมบัติที่จะ plot\n",
        "angles += angles[:1]\n",
        "\n",
        "# สร้าง background graph\n",
        "fig, ax = plt.subplots(nrows=1, ncols=1, figsize=(8, 8),\n",
        "                       subplot_kw=dict(polar=True))\n",
        "\n",
        "plt.xticks(angles[:-1], categories, color='grey', size=12)\n",
        "plt.yticks(np.arange(1, 10), ['1', '2', '3', '4', '5','6','7','8','9','10'],    ## กำหนด scale ของค่าที่ต้องการแสดง\n",
        "           color='grey', size=12)\n",
        "\n",
        "plt.ylim(0, 10)\n",
        "ax.set_rlabel_position(30)\n",
        "\n",
        "# plot คนที่ 1\n",
        "val_c1 = df.loc[0].drop('client_id').values.flatten().tolist()    ## เลือกค่าที่ต้องการแสดง\n",
        "val_c1 += val_c1[:1]\n",
        "ax.plot(angles, val_c1, linewidth=1,\n",
        "        linestyle='solid', label='Person1')\n",
        "ax.fill(angles, val_c1, 'skyblue', alpha=0.4)     ## เลือกสี\n",
        "\n",
        "# plot คนที่ 2\n",
        "val_c2 = df.loc[1].drop('client_id').values.flatten().tolist()   ## เลือกค่าที่ต้องการแสดง\n",
        "val_c2 += val_c2[:1]\n",
        "ax.plot(angles, val_c2, linewidth=1,\n",
        "        linestyle='solid', label='Person2')\n",
        "ax.fill(angles, val_c2, 'lightpink', alpha=0.4)   ## เลือกสี\n",
        "\n",
        "# plot ค่าเฉลี่ย\n",
        "values = df.mean().values.flatten().tolist()    ## เลือกค่าที่ต้องการแสดง\n",
        "values += values[:1]\n",
        "ax.plot(angles, values, linewidth=1, linestyle='solid' , color = 'g', label='Average Values')\n",
        "ax.fill(angles, values, 'lightgreen', alpha=0.5)    ## เลือกสี\n",
        "\n",
        "ax.legend();"
      ],
      "metadata": {
        "id": "fGzsP3VMJqem"
      },
      "execution_count": null,
      "outputs": []
    },
    {
      "cell_type": "code",
      "source": [
        "angles # มุม"
      ],
      "metadata": {
        "id": "3DOHvAx-Jsfg"
      },
      "execution_count": null,
      "outputs": []
    },
    {
      "cell_type": "code",
      "source": [
        "val_c1 # ค่า ของ c1"
      ],
      "metadata": {
        "id": "80WtE0f9JumJ"
      },
      "execution_count": null,
      "outputs": []
    }
  ]
}