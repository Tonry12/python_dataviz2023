{
  "nbformat": 4,
  "nbformat_minor": 0,
  "metadata": {
    "colab": {
      "provenance": [],
      "authorship_tag": "ABX9TyNho3Kxl9EBDzG4u/A640wT",
      "include_colab_link": true
    },
    "kernelspec": {
      "name": "python3",
      "display_name": "Python 3"
    },
    "language_info": {
      "name": "python"
    }
  },
  "cells": [
    {
      "cell_type": "markdown",
      "metadata": {
        "id": "view-in-github",
        "colab_type": "text"
      },
      "source": [
        "<a href=\"https://colab.research.google.com/github/Tonry12/python_dataviz2023/blob/main/Data_Preparation.ipynb\" target=\"_parent\"><img src=\"https://colab.research.google.com/assets/colab-badge.svg\" alt=\"Open In Colab\"/></a>"
      ]
    },
    {
      "cell_type": "code",
      "execution_count": 1,
      "metadata": {
        "id": "hO8PwF3pemUI"
      },
      "outputs": [],
      "source": [
        "import pandas as pd\n",
        "import os"
      ]
    },
    {
      "cell_type": "code",
      "source": [
        "from google.colab import drive # เชื่อมบัญชีกับ google drive\n",
        "drive.mount('/content/drive') # เช็คว่าเชื่อมติดหรือไม่"
      ],
      "metadata": {
        "colab": {
          "base_uri": "https://localhost:8080/"
        },
        "id": "NFSDO94yfmHe",
        "outputId": "957b2624-7d19-4c87-e16b-76136ca90ec6"
      },
      "execution_count": 2,
      "outputs": [
        {
          "output_type": "stream",
          "name": "stdout",
          "text": [
            "Mounted at /content/drive\n"
          ]
        }
      ]
    },
    {
      "cell_type": "code",
      "source": [
        "import os\n",
        "os.chdir('/content/drive/MyDrive/DataViz2023Data/Data-Viz-2023-2')\n",
        "!pwd #เช็ค path ที่กำลังทำงานอยู่"
      ],
      "metadata": {
        "colab": {
          "base_uri": "https://localhost:8080/"
        },
        "id": "5V5s73d7OVlF",
        "outputId": "a5abf81c-2673-42b2-f729-02434e5f2981"
      },
      "execution_count": 8,
      "outputs": [
        {
          "output_type": "stream",
          "name": "stdout",
          "text": [
            "/content/drive/.shortcut-targets-by-id/12P345W-7yfEVWYLBQrbu5kvt7JHLEhMU/Data-Viz-2023-2\n"
          ]
        }
      ]
    },
    {
      "cell_type": "code",
      "source": [
        "!ls #เป็นการเช็คว่ามีไฟล์ไรบ้างอยู่ในนั้น"
      ],
      "metadata": {
        "colab": {
          "base_uri": "https://localhost:8080/"
        },
        "id": "revolyORO3FN",
        "outputId": "15d3714d-f23a-4816-ebc4-ac6e2650f7db"
      },
      "execution_count": 9,
      "outputs": [
        {
          "output_type": "stream",
          "name": "stdout",
          "text": [
            " Bhumjaithai.png\t   Pheu_Thai_RM_bk.png\n",
            " ectreport2023.xlsx\t   Thai-election.jpg\n",
            " iPrice-election.jpg\t   thailand-elections-removebg-rmBK.png\n",
            "'Move Forward Party.png'\n"
          ]
        }
      ]
    },
    {
      "cell_type": "markdown",
      "source": [
        "# Database"
      ],
      "metadata": {
        "id": "-inGhiKHPMiN"
      }
    },
    {
      "cell_type": "markdown",
      "source": [
        "## Import excel file"
      ],
      "metadata": {
        "id": "_EdyEqIvPZ00"
      }
    },
    {
      "cell_type": "code",
      "source": [
        "import pandas as pd\n",
        "\n",
        "file_name = 'ectreport2023.xlsx' #ชื่อไฟล์ xlsx\n",
        "dfs = pd.ExcelFile(file_name) #คำสั่งอ่านไฟล์ xlsx\n",
        "\n",
        "dfs.sheet_names # check ว่าในไฟล์ excel มีชีทย่อยอยู่ในนั้นมั้ย"
      ],
      "metadata": {
        "colab": {
          "base_uri": "https://localhost:8080/"
        },
        "id": "Uhfgq2buPQ5b",
        "outputId": "30fc62f8-54a3-499b-e2db-b403214bb034"
      },
      "execution_count": 11,
      "outputs": [
        {
          "output_type": "execute_result",
          "data": {
            "text/plain": [
              "['Schema',\n",
              " 'result_constituencies_PartyList',\n",
              " 'result_constituencies_Candidate',\n",
              " 'result_constituencies_status',\n",
              " 'info_province',\n",
              " 'info_party_overview',\n",
              " 'info_constituency',\n",
              " 'Candidate_Constituency',\n",
              " 'Candidate_PartyList',\n",
              " 'Candidate_PM']"
            ]
          },
          "metadata": {},
          "execution_count": 11
        }
      ]
    }
  ]
}